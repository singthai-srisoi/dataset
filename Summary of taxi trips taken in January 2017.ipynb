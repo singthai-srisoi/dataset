{
 "cells": [
  {
   "cell_type": "markdown",
   "id": "9edeaf42",
   "metadata": {},
   "source": [
    "# Summary of taxi trips taken in January 2017"
   ]
  },
  {
   "cell_type": "code",
   "execution_count": 1,
   "id": "72ae15b4",
   "metadata": {},
   "outputs": [],
   "source": [
    "import pandas as pd\n",
    "from bokeh.plotting import figure, output_file, show\n",
    "from bokeh.models import ColumnDataSource\n",
    "\n",
    "output_file('taxidata.html')\n",
    "df = pd.read_csv('/home/ec2-user/yellow_tripdata_2017-01.csv')\n",
    "sample = df.sample (50)\n",
    "source = ColumnDataSource(sample)\n",
    "p=figure()\n",
    "p.circle(x='passenger_count', y='total_amount', source=source, size=10, color='green')\n",
    "p.title.text = 'Taxi rides'\n",
    "p.xaxis.axis_label = \"Passengers\"\n",
    "p.yaxis.axis_label = \"Amount paid\"\n",
    "show(p)"
   ]
  },
  {
   "cell_type": "code",
   "execution_count": 7,
   "id": "825f4048",
   "metadata": {},
   "outputs": [
    {
     "data": {
      "text/html": [
       "\n",
       "\n",
       "\n",
       "\n",
       "<!DOCTYPE html>\n",
       "<html lang=\"en\">\n",
       "  \n",
       "  <head>\n",
       "    \n",
       "      <meta charset=\"utf-8\">\n",
       "      <title>Bokeh Plot</title>\n",
       "      \n",
       "      \n",
       "        \n",
       "          \n",
       "        \n",
       "        \n",
       "          \n",
       "        <script type=\"text/javascript\" src=\"https://cdn.bokeh.org/bokeh/release/bokeh-2.4.2.min.js\"></script>\n",
       "        <script type=\"text/javascript\">\n",
       "            Bokeh.set_log_level(\"info\");\n",
       "        </script>\n",
       "        \n",
       "      \n",
       "      \n",
       "    \n",
       "  </head>\n",
       "  \n",
       "  \n",
       "  <body>\n",
       "    \n",
       "      \n",
       "        \n",
       "          \n",
       "          \n",
       "            \n",
       "              <div class=\"bk-root\" id=\"96e96526-7ae8-4913-a872-baec7afd1dcd\" data-root-id=\"1003\"></div>\n",
       "            \n",
       "          \n",
       "        \n",
       "      \n",
       "      \n",
       "        <script type=\"application/json\" id=\"1184\">\n",
       "          {\"7885acc2-c115-440c-8c14-e38da264d259\":{\"defs\":[],\"roots\":{\"references\":[{\"attributes\":{\"fill_alpha\":{\"value\":0.1},\"fill_color\":{\"value\":\"green\"},\"hatch_alpha\":{\"value\":0.1},\"hatch_color\":{\"value\":\"green\"},\"line_alpha\":{\"value\":0.1},\"line_color\":{\"value\":\"green\"},\"size\":{\"value\":10},\"x\":{\"field\":\"passenger_count\"},\"y\":{\"field\":\"total_amount\"}},\"id\":\"1036\",\"type\":\"Circle\"},{\"attributes\":{\"coordinates\":null,\"data_source\":{\"id\":\"1002\"},\"glyph\":{\"id\":\"1035\"},\"group\":null,\"hover_glyph\":null,\"muted_glyph\":{\"id\":\"1037\"},\"nonselection_glyph\":{\"id\":\"1036\"},\"view\":{\"id\":\"1039\"}},\"id\":\"1038\",\"type\":\"GlyphRenderer\"},{\"attributes\":{\"fill_color\":{\"value\":\"green\"},\"hatch_color\":{\"value\":\"green\"},\"line_color\":{\"value\":\"green\"},\"size\":{\"value\":10},\"x\":{\"field\":\"passenger_count\"},\"y\":{\"field\":\"total_amount\"}},\"id\":\"1035\",\"type\":\"Circle\"},{\"attributes\":{},\"id\":\"1049\",\"type\":\"UnionRenderers\"},{\"attributes\":{},\"id\":\"1004\",\"type\":\"DataRange1d\"},{\"attributes\":{},\"id\":\"1006\",\"type\":\"DataRange1d\"},{\"attributes\":{},\"id\":\"1008\",\"type\":\"LinearScale\"},{\"attributes\":{},\"id\":\"1050\",\"type\":\"Selection\"},{\"attributes\":{\"below\":[{\"id\":\"1012\"}],\"center\":[{\"id\":\"1015\"},{\"id\":\"1019\"}],\"left\":[{\"id\":\"1016\"}],\"renderers\":[{\"id\":\"1038\"}],\"title\":{\"id\":\"1040\"},\"toolbar\":{\"id\":\"1027\"},\"x_range\":{\"id\":\"1004\"},\"x_scale\":{\"id\":\"1008\"},\"y_range\":{\"id\":\"1006\"},\"y_scale\":{\"id\":\"1010\"}},\"id\":\"1003\",\"subtype\":\"Figure\",\"type\":\"Plot\"},{\"attributes\":{\"data\":{\"DOLocationID\":[141,129,164,255,237,198,107,114,79,107,166,170,162,144,48,229,158,17,211,141,68,231,68,148,230,68,228,234,162,166,234,162,41,116,148,163,223,116,87,262,151,142,152,162,230,141,246,230,141,166],\"PULocationID\":[263,236,137,255,163,25,113,148,4,162,238,107,164,230,186,50,246,148,142,263,48,249,163,148,138,113,228,158,164,230,142,246,116,244,170,170,146,116,237,144,142,141,164,162,163,186,234,229,263,138],\"RatecodeID\":[1,1,1,1,1,1,1,1,1,1,1,1,1,1,1,1,1,1,1,1,1,1,1,1,1,1,1,1,1,1,1,1,1,1,1,1,1,5,1,1,1,1,1,1,1,1,1,1,1,1],\"VendorID\":[2,1,2,2,2,1,2,1,1,1,2,1,1,1,2,1,1,1,1,1,2,2,1,2,1,2,1,1,2,2,2,2,2,1,2,2,2,2,2,1,1,1,2,2,1,2,1,2,1,2],\"extra\":{\"__ndarray__\":\"AAAAAAAAAAAAAAAAAADwPwAAAAAAAAAAAAAAAAAA4D8AAAAAAAAAAAAAAAAAAAAAAAAAAAAA4D8AAAAAAADgPwAAAAAAAAAAAAAAAAAAAAAAAAAAAAAAAAAAAAAAAAAAAAAAAAAAAAAAAAAAAAAAAAAAAAAAAAAAAAAAAAAA4D8AAAAAAAAAAAAAAAAAAOA/AAAAAAAA4D8AAAAAAAAAAAAAAAAAAAAAAAAAAAAA4D8AAAAAAADgPwAAAAAAAOA/AAAAAAAAAAAAAAAAAADgPwAAAAAAAOA/AAAAAAAA4D8AAAAAAADgPwAAAAAAAOA/AAAAAAAA4D8AAAAAAAAAAAAAAAAAAAAAAAAAAAAA4D8AAAAAAAAAAAAAAAAAAOA/AAAAAAAAAAAAAAAAAAAAAAAAAAAAAAAAAAAAAAAA4D8AAAAAAADgPwAAAAAAAOA/AAAAAAAA4D8AAAAAAAAAAAAAAAAAAOA/AAAAAAAAAAAAAAAAAAAAAAAAAAAAAOA/AAAAAAAAAAAAAAAAAADgPw==\",\"dtype\":\"float64\",\"order\":\"little\",\"shape\":[50]},\"fare_amount\":{\"__ndarray__\":\"AAAAAAAAEkAAAAAAAIA6QAAAAAAAABRAAAAAAAAAEkAAAAAAAAAWQAAAAAAAADxAAAAAAAAAHEAAAAAAAAAQQAAAAAAAABZAAAAAAAAAGEAAAAAAAAAhQAAAAAAAABxAAAAAAAAAIUAAAAAAAAAtQAAAAAAAABRAAAAAAAAAKUAAAAAAAAAaQAAAAAAAACdAAAAAAACANkAAAAAAAAAYQAAAAAAAABhAAAAAAAAAGEAAAAAAAAAoQAAAAAAAABhAAAAAAABAQEAAAAAAAAAcQAAAAAAAAB5AAAAAAAAAIUAAAAAAAAAgQAAAAAAAAC1AAAAAAAAAL0AAAAAAAAArQAAAAAAAABxAAAAAAAAAIEAAAAAAAAAkQAAAAAAAABpAAAAAAAAAKUAAAAAAAABOQAAAAAAAADhAAAAAAAAANkAAAAAAAAAhQAAAAAAAACNAAAAAAACANEAAAAAAAAAiQAAAAAAAABhAAAAAAACAM0AAAAAAAAAgQAAAAAAAACJAAAAAAAAAIEAAAAAAAIA6QA==\",\"dtype\":\"float64\",\"order\":\"little\",\"shape\":[50]},\"improvement_surcharge\":{\"__ndarray__\":\"MzMzMzMz0z8zMzMzMzPTPzMzMzMzM9M/MzMzMzMz0z8zMzMzMzPTPzMzMzMzM9M/MzMzMzMz0z8zMzMzMzPTPzMzMzMzM9M/MzMzMzMz0z8zMzMzMzPTPzMzMzMzM9M/MzMzMzMz0z8zMzMzMzPTPzMzMzMzM9M/MzMzMzMz0z8zMzMzMzPTPzMzMzMzM9M/MzMzMzMz0z8zMzMzMzPTPzMzMzMzM9M/MzMzMzMz0z8zMzMzMzPTPzMzMzMzM9M/MzMzMzMz0z8zMzMzMzPTPzMzMzMzM9M/MzMzMzMz0z8zMzMzMzPTPzMzMzMzM9M/MzMzMzMz0z8zMzMzMzPTPzMzMzMzM9M/MzMzMzMz0z8zMzMzMzPTPzMzMzMzM9M/MzMzMzMz0z8zMzMzMzPTPzMzMzMzM9M/MzMzMzMz0z8zMzMzMzPTPzMzMzMzM9M/MzMzMzMz0z8zMzMzMzPTPzMzMzMzM9M/MzMzMzMz0z8zMzMzMzPTPzMzMzMzM9M/MzMzMzMz0z8zMzMzMzPTPw==\",\"dtype\":\"float64\",\"order\":\"little\",\"shape\":[50]},\"index\":[557123,1040896,709321,164278,885990,1526,173511,374063,781380,764272,913128,890616,1009387,754243,858732,130786,1001986,847049,120163,994937,70890,297650,358166,302522,843474,291651,169896,842886,679108,829419,147135,952665,30343,195383,466806,631541,523139,456037,521808,697448,332855,108929,837283,880776,294826,953459,877852,137631,231685,601308],\"mta_tax\":{\"__ndarray__\":\"AAAAAAAA4D8AAAAAAADgPwAAAAAAAOA/AAAAAAAA4D8AAAAAAADgPwAAAAAAAOA/AAAAAAAA4D8AAAAAAADgPwAAAAAAAOA/AAAAAAAA4D8AAAAAAADgPwAAAAAAAOA/AAAAAAAA4D8AAAAAAADgPwAAAAAAAOA/AAAAAAAA4D8AAAAAAADgPwAAAAAAAOA/AAAAAAAA4D8AAAAAAADgPwAAAAAAAOA/AAAAAAAA4D8AAAAAAADgPwAAAAAAAOA/AAAAAAAA4D8AAAAAAADgPwAAAAAAAOA/AAAAAAAA4D8AAAAAAADgPwAAAAAAAOA/AAAAAAAA4D8AAAAAAADgPwAAAAAAAOA/AAAAAAAA4D8AAAAAAADgPwAAAAAAAOA/AAAAAAAA4D8AAAAAAAAAAAAAAAAAAOA/AAAAAAAA4D8AAAAAAADgPwAAAAAAAOA/AAAAAAAA4D8AAAAAAADgPwAAAAAAAOA/AAAAAAAA4D8AAAAAAADgPwAAAAAAAOA/AAAAAAAA4D8AAAAAAADgPw==\",\"dtype\":\"float64\",\"order\":\"little\",\"shape\":[50]},\"passenger_count\":[1,1,2,1,5,1,1,1,1,1,1,1,2,4,1,1,1,1,1,1,4,6,2,1,1,1,1,3,3,1,1,1,1,2,1,1,1,2,4,3,2,1,1,2,1,2,2,1,1,1],\"payment_type\":[2,1,2,2,1,2,2,2,1,1,1,2,1,2,1,2,2,1,1,2,1,1,1,1,1,1,2,2,1,1,2,1,1,2,1,2,1,1,1,1,1,1,1,1,1,1,1,1,1,1],\"store_and_fwd_flag\":[\"N\",\"N\",\"N\",\"N\",\"N\",\"N\",\"N\",\"N\",\"N\",\"N\",\"N\",\"N\",\"N\",\"N\",\"N\",\"N\",\"N\",\"N\",\"N\",\"N\",\"N\",\"N\",\"N\",\"N\",\"N\",\"N\",\"N\",\"N\",\"N\",\"N\",\"N\",\"N\",\"N\",\"N\",\"N\",\"N\",\"N\",\"N\",\"N\",\"N\",\"N\",\"N\",\"N\",\"N\",\"N\",\"N\",\"N\",\"N\",\"N\",\"N\"],\"tip_amount\":{\"__ndarray__\":\"AAAAAAAAAAAAAAAAAAAAQAAAAAAAAAAAAAAAAAAAAAApXI/C9Sj0PwAAAAAAAAAAAAAAAAAAAAAAAAAAAAAAAAAAAAAAAAAAAAAAAAAAAEAzMzMzMzP7PwAAAAAAAAAAmpmZmZmZ/T8AAAAAAAAAAI/C9Shcj/I/AAAAAAAAAAAAAAAAAAAAAGZmZmZmZgRAAAAAAAAAE0AAAAAAAAAAAAAAAAAAAAAAmpmZmZmZ8T8AAAAAAAAIQFyPwvUoXPc/AAAAAAAAH0DXo3A9CtfzPwAAAAAAAAAAAAAAAAAAAADD9Shcj8L9P0jhehSuRwlAAAAAAAAAAACkcD0K16MMQAAAAAAAAPA/AAAAAAAAAABI4XoUrkcBQAAAAAAAAAAASOF6FK5HBUDNzMzMzMwaQNejcD0K1xNAAAAAAAAAAECamZmZmZnJPzMzMzMzMwFAAAAAAAAAAAAAAAAAAAD4P2ZmZmZmZuY/UrgehetREEAAAAAAAAD8P6RwPQrXowRAAAAAAAAAAECuR+F6FK4aQA==\",\"dtype\":\"float64\",\"order\":\"little\",\"shape\":[50]},\"tolls_amount\":{\"__ndarray__\":\"AAAAAAAAAAAAAAAAAAAAAAAAAAAAAAAAAAAAAAAAAAAAAAAAAAAAAAAAAAAAAAAAAAAAAAAAAAAAAAAAAAAAAAAAAAAAAAAAAAAAAAAAAAAAAAAAAAAAAAAAAAAAAAAAAAAAAAAAAAAAAAAAAAAAAAAAAAAAAAAAAAAAAAAAAAAAAAAAAAAAAAAAAAAAAAAAAAAAAAAAAAAAAAAAAAAAAAAAAAAAAAAAAAAAAAAAAAAAAAAAAAAAAAAAAAAAAAAAKVyPwvUoFkAAAAAAAAAAAAAAAAAAAAAAAAAAAAAAAAAAAAAAAAAAAAAAAAAAAAAAAAAAAAAAAAAAAAAAAAAAAAAAAAAAAAAAAAAAAAAAAAAAAAAAAAAAAAAAAAAAAAAAAAAAAAAAAAAAAAAAAAAAAAAAAAAAAAAAAAAAAAAAAAAAAAAAAAAAAAAAAAAAAAAAAAAAAAAAAAAAAAAAAAAAAAAAAAAAAAAAAAAAAAAAAAAAAAAAAAAAAAAAAAAAAAAAAAAAAAAAAAApXI/C9SgWQA==\",\"dtype\":\"float64\",\"order\":\"little\",\"shape\":[50]},\"total_amount\":{\"__ndarray__\":\"MzMzMzMzFUDNzMzMzEw+QDMzMzMzMxdAMzMzMzMzF0A9CtejcD0eQM3MzMzMzDxAmpmZmZmZIEAzMzMzMzMVQDMzMzMzMxlAmpmZmZmZIUAAAAAAAAAmQDMzMzMzMx9AzczMzMxMJkCamZmZmZkuQNejcD0K1xtAmpmZmZmZK0AzMzMzMzMdQDMzMzMzsy5AzczMzMyMPEAzMzMzMzMbQDMzMzMzMxtAzczMzMzMIEDNzMzMzEwwQIXrUbgehSFA7FG4HoVLR0AUrkfhehQjQJqZmZmZmSFAmpmZmZmZI0BSuB6F61EmQPYoXI/C9TJAzczMzMzMMEDhehSuR+ExQJqZmZmZmSFAmpmZmZmZIkDsUbgehespQDMzMzMzMx9A7FG4HoXrL0AAAAAAAMBQQMP1KFyPwj1AzczMzMxMOUAAAAAAAAAkQGZmZmZm5ilAzczMzMzMNUCamZmZmZkmQAAAAAAAACBA4XoUrkdhOECamZmZmRklQMP1KFyPwilAmpmZmZmZJUDhehSuRwFEQA==\",\"dtype\":\"float64\",\"order\":\"little\",\"shape\":[50]},\"tpep_dropoff_datetime\":[\"1/15/2017 18:26\",\"1/17/2017 18:09\",\"1/16/2017 15:44\",\"1/1/2017 4:13\",\"1/17/2017 8:30\",\"1/1/2017 7:31\",\"1/1/2017 4:58\",\"1/15/2017 2:53\",\"1/16/2017 19:29\",\"1/16/2017 18:31\",\"1/17/2017 9:59\",\"1/17/2017 8:47\",\"1/17/2017 15:42\",\"1/16/2017 18:11\",\"1/17/2017 6:53\",\"1/1/2017 2:38\",\"1/17/2017 15:13\",\"1/17/2017 4:26\",\"1/1/2017 2:24\",\"1/17/2017 14:48\",\"1/1/2017 15:04\",\"1/14/2017 22:15\",\"1/15/2017 1:54\",\"1/14/2017 22:33\",\"1/17/2017 2:26\",\"1/14/2017 21:58\",\"1/1/2017 4:39\",\"1/17/2017 2:00\",\"1/1/2017 21:11\",\"1/16/2017 23:24\",\"1/1/2017 3:29\",\"1/17/2017 12:34\",\"1/1/2017 11:51\",\"1/1/2017 0:41\",\"1/15/2017 13:21\",\"1/15/2017 23:31\",\"1/15/2017 16:43\",\"1/15/2017 12:31\",\"1/15/2017 16:46\",\"1/1/2017 23:11\",\"1/15/2017 0:15\",\"1/1/2017 1:36\",\"1/17/2017 0:35\",\"1/17/2017 8:21\",\"1/14/2017 22:05\",\"1/17/2017 12:46\",\"1/17/2017 8:09\",\"1/1/2017 2:54\",\"1/14/2017 18:35\",\"1/15/2017 21:35\"],\"tpep_pickup_datetime\":[\"1/15/2017 18:24\",\"1/17/2017 17:31\",\"1/16/2017 15:39\",\"1/1/2017 4:09\",\"1/17/2017 8:25\",\"1/1/2017 7:11\",\"1/1/2017 4:52\",\"1/15/2017 2:50\",\"1/16/2017 19:24\",\"1/16/2017 18:25\",\"1/17/2017 9:50\",\"1/17/2017 8:40\",\"1/17/2017 15:30\",\"1/16/2017 17:51\",\"1/17/2017 6:49\",\"1/1/2017 2:23\",\"1/17/2017 15:05\",\"1/17/2017 4:17\",\"1/1/2017 1:54\",\"1/17/2017 14:42\",\"1/1/2017 14:59\",\"1/14/2017 22:09\",\"1/15/2017 1:40\",\"1/14/2017 22:26\",\"1/17/2017 2:06\",\"1/14/2017 21:49\",\"1/1/2017 4:32\",\"1/17/2017 1:51\",\"1/1/2017 21:03\",\"1/16/2017 23:11\",\"1/1/2017 3:10\",\"1/17/2017 12:12\",\"1/1/2017 11:44\",\"1/1/2017 0:34\",\"1/15/2017 13:10\",\"1/15/2017 23:25\",\"1/15/2017 16:26\",\"1/15/2017 12:31\",\"1/15/2017 16:22\",\"1/1/2017 22:52\",\"1/15/2017 0:07\",\"1/1/2017 1:24\",\"1/17/2017 0:19\",\"1/17/2017 8:09\",\"1/14/2017 21:59\",\"1/17/2017 12:15\",\"1/17/2017 8:00\",\"1/1/2017 2:42\",\"1/14/2017 18:26\",\"1/15/2017 21:12\"],\"trip_distance\":{\"__ndarray__\":\"CtejcD0K5z9mZmZmZmYYQAAAAAAAAOg/j8L1KFyP4j+uR+F6FK7vPwAAAAAAACNAAAAAAAAA+D+amZmZmZnZP5qZmZmZmek/mpmZmZmZ8T8zMzMzMzP3P5qZmZmZmfE/MzMzMzMz8z/NzMzMzMwIQM3MzMzMzOw/ZmZmZmZmBkAzMzMzMzPjP2ZmZmZmZgpAZmZmZmZmFEDNzMzMzMzsP9ejcD0K1/M/4XoUrkfh8j8zMzMzMzMHQClcj8L1KOQ/ZmZmZmZmJkBI4XoUrkfpP83MzMzMzPQ/ZmZmZmZm9j+F61G4HoX3P9ejcD0K1w9AexSuR+F6DkDsUbgehev9Pz0K16NwPfI/mpmZmZmZ+T8fhetRuB4BQI/C9Shcj/I/zczMzMzMAkAAAAAAAAAAAHsUrkfhehtAmpmZmZmZGUAAAAAAAAAAQM3MzMzMzPw/hetRuB6FGUDXo3A9CtfzPwAAAAAAAPA/rkfhehSuB0DNzMzMzMz0P4/C9Shcj+o/AAAAAAAA+D/hehSuR+EgQA==\",\"dtype\":\"float64\",\"order\":\"little\",\"shape\":[50]}},\"selected\":{\"id\":\"1050\"},\"selection_policy\":{\"id\":\"1049\"}},\"id\":\"1002\",\"type\":\"ColumnDataSource\"},{\"attributes\":{},\"id\":\"1023\",\"type\":\"SaveTool\"},{\"attributes\":{},\"id\":\"1024\",\"type\":\"ResetTool\"},{\"attributes\":{},\"id\":\"1020\",\"type\":\"PanTool\"},{\"attributes\":{\"bottom_units\":\"screen\",\"coordinates\":null,\"fill_alpha\":0.5,\"fill_color\":\"lightgrey\",\"group\":null,\"left_units\":\"screen\",\"level\":\"overlay\",\"line_alpha\":1.0,\"line_color\":\"black\",\"line_dash\":[4,4],\"line_width\":2,\"right_units\":\"screen\",\"syncable\":false,\"top_units\":\"screen\"},\"id\":\"1026\",\"type\":\"BoxAnnotation\"},{\"attributes\":{},\"id\":\"1025\",\"type\":\"HelpTool\"},{\"attributes\":{},\"id\":\"1044\",\"type\":\"BasicTickFormatter\"},{\"attributes\":{},\"id\":\"1021\",\"type\":\"WheelZoomTool\"},{\"attributes\":{\"coordinates\":null,\"group\":null,\"text\":\"Taxi rides\"},\"id\":\"1040\",\"type\":\"Title\"},{\"attributes\":{},\"id\":\"1045\",\"type\":\"AllLabels\"},{\"attributes\":{},\"id\":\"1017\",\"type\":\"BasicTicker\"},{\"attributes\":{},\"id\":\"1047\",\"type\":\"BasicTickFormatter\"},{\"attributes\":{\"overlay\":{\"id\":\"1026\"}},\"id\":\"1022\",\"type\":\"BoxZoomTool\"},{\"attributes\":{\"axis\":{\"id\":\"1016\"},\"coordinates\":null,\"dimension\":1,\"group\":null,\"ticker\":null},\"id\":\"1019\",\"type\":\"Grid\"},{\"attributes\":{\"fill_alpha\":{\"value\":0.2},\"fill_color\":{\"value\":\"green\"},\"hatch_alpha\":{\"value\":0.2},\"hatch_color\":{\"value\":\"green\"},\"line_alpha\":{\"value\":0.2},\"line_color\":{\"value\":\"green\"},\"size\":{\"value\":10},\"x\":{\"field\":\"passenger_count\"},\"y\":{\"field\":\"total_amount\"}},\"id\":\"1037\",\"type\":\"Circle\"},{\"attributes\":{\"axis\":{\"id\":\"1012\"},\"coordinates\":null,\"group\":null,\"ticker\":null},\"id\":\"1015\",\"type\":\"Grid\"},{\"attributes\":{},\"id\":\"1048\",\"type\":\"AllLabels\"},{\"attributes\":{\"tools\":[{\"id\":\"1020\"},{\"id\":\"1021\"},{\"id\":\"1022\"},{\"id\":\"1023\"},{\"id\":\"1024\"},{\"id\":\"1025\"}]},\"id\":\"1027\",\"type\":\"Toolbar\"},{\"attributes\":{\"source\":{\"id\":\"1002\"}},\"id\":\"1039\",\"type\":\"CDSView\"},{\"attributes\":{},\"id\":\"1013\",\"type\":\"BasicTicker\"},{\"attributes\":{\"axis_label\":\"Amount paid\",\"coordinates\":null,\"formatter\":{\"id\":\"1044\"},\"group\":null,\"major_label_policy\":{\"id\":\"1045\"},\"ticker\":{\"id\":\"1017\"}},\"id\":\"1016\",\"type\":\"LinearAxis\"},{\"attributes\":{\"axis_label\":\"Passengers\",\"coordinates\":null,\"formatter\":{\"id\":\"1047\"},\"group\":null,\"major_label_policy\":{\"id\":\"1048\"},\"ticker\":{\"id\":\"1013\"}},\"id\":\"1012\",\"type\":\"LinearAxis\"},{\"attributes\":{},\"id\":\"1010\",\"type\":\"LinearScale\"}],\"root_ids\":[\"1003\"]},\"title\":\"Bokeh Application\",\"version\":\"2.4.2\"}}\n",
       "        </script>\n",
       "        <script type=\"text/javascript\">\n",
       "          (function() {\n",
       "            const fn = function() {\n",
       "              Bokeh.safely(function() {\n",
       "                (function(root) {\n",
       "                  function embed_document(root) {\n",
       "                    \n",
       "                  const docs_json = document.getElementById('1184').textContent;\n",
       "                  const render_items = [{\"docid\":\"7885acc2-c115-440c-8c14-e38da264d259\",\"root_ids\":[\"1003\"],\"roots\":{\"1003\":\"96e96526-7ae8-4913-a872-baec7afd1dcd\"}}];\n",
       "                  root.Bokeh.embed.embed_items(docs_json, render_items);\n",
       "                \n",
       "                  }\n",
       "                  if (root.Bokeh !== undefined) {\n",
       "                    embed_document(root);\n",
       "                  } else {\n",
       "                    let attempts = 0;\n",
       "                    const timer = setInterval(function(root) {\n",
       "                      if (root.Bokeh !== undefined) {\n",
       "                        clearInterval(timer);\n",
       "                        embed_document(root);\n",
       "                      } else {\n",
       "                        attempts++;\n",
       "                        if (attempts > 100) {\n",
       "                          clearInterval(timer);\n",
       "                          console.log(\"Bokeh: ERROR: Unable to run BokehJS code because BokehJS library is missing\");\n",
       "                        }\n",
       "                      }\n",
       "                    }, 10, root)\n",
       "                  }\n",
       "                })(window);\n",
       "              });\n",
       "            };\n",
       "            if (document.readyState != \"loading\") fn();\n",
       "            else document.addEventListener(\"DOMContentLoaded\", fn);\n",
       "          })();\n",
       "        </script>\n",
       "    \n",
       "  </body>\n",
       "  \n",
       "</html>"
      ],
      "text/plain": [
       "<IPython.core.display.HTML object>"
      ]
     },
     "execution_count": 7,
     "metadata": {},
     "output_type": "execute_result"
    }
   ],
   "source": [
    "from IPython.display import HTML\n",
    "\n",
    "HTML(filename=\"taxidata.html\")"
   ]
  },
  {
   "cell_type": "code",
   "execution_count": null,
   "id": "9ffa418c",
   "metadata": {},
   "outputs": [],
   "source": []
  }
 ],
 "metadata": {
  "kernelspec": {
   "display_name": "conda_python3",
   "language": "python",
   "name": "conda_python3"
  },
  "language_info": {
   "codemirror_mode": {
    "name": "ipython",
    "version": 3
   },
   "file_extension": ".py",
   "mimetype": "text/x-python",
   "name": "python",
   "nbconvert_exporter": "python",
   "pygments_lexer": "ipython3",
   "version": "3.8.12"
  }
 },
 "nbformat": 4,
 "nbformat_minor": 5
}
