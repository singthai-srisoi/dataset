{
  "cells": [
    {
      "cell_type": "markdown",
      "metadata": {
        "id": "view-in-github",
        "colab_type": "text"
      },
      "source": [
        "<a href=\"https://colab.research.google.com/github/singthai-srisoi/dataset/blob/main/singthai-srisoi/dataset/1500_rows_Assignment_Pandas.ipynb\" target=\"_parent\"><img src=\"https://colab.research.google.com/assets/colab-badge.svg\" alt=\"Open In Colab\"/></a>"
      ]
    },
    {
      "cell_type": "markdown",
      "metadata": {
        "id": "XBtcnU6iVJJx"
      },
      "source": [
        "## Assignment: Exploratory Data Analysis using Python\n",
        "\n",
        "This is the starter notebook for the case study project. You will pick a real-world dataset of your choice and apply the concepts learned in this course to perform exploratory data analysis. Use this starter notebook as an outline for your project . Focus on documentation and presentation - this Jupyter notebook will also serve as a project report, so make sure to include detailed explanations wherever possible using Markdown cells.\n",
        "\n",
        "## Exploratory Data Analysis\n",
        "According to Wikipedia, EDA “is an approach to analyzing datasets to summarize their main characteristics, often with visual methods”. In my own words, it is about knowing your data, gaining a certain amount of familiarity with the data, before one starts to extract insights from it.\n",
        "\n",
        "Since EDA is such a crucial initial step for all data science projects, the lazy me decided to write a code template for performing EDA on structured datasets. The idea is to spend less time coding and focus more on the analysis of data itself. Scroll down to the bottom for the link to the code, but do read on to find out more about EDA and understand what the code does. More information related to EDA --> [Exploratory Data Analysis: A Practical Guide and Template for Structured Data](https://towardsdatascience.com/exploratory-data-analysis-eda-a-practical-guide-and-template-for-structured-data-abfbf3ee3bd9)\n",
        "\n",
        "\n",
        "![EDA](https://drive.google.com/uc?export=view&id=1GUl7SVxNv_KUIUrDVa048SyqPUbn9w5M)\n",
        "\n",
        "\n",
        "### Submission\n",
        "1.   This exercise must be completed in pairs (2 students in a group).\n",
        "2.   You need to send the *.pynb file. Make sure you have linked Google Colab with your dataset (Github). \n",
        "3.   Please link to your Google Colab file.<a href=\"https://www.utm.my\" target=\"_parent\"><img src=\"https://colab.research.google.com/assets/colab-badge.svg\" alt=\"Open In Colab\"/></a>\n",
        "4.   Please submit it via e-learning.\n",
        "\n",
        "### Evaluation Criteria\n",
        "\n",
        "Your submission will be evaluated using the following criteria:\n",
        "\n",
        "* Dataset must contain at least 5 columns and 1500 rows of data\n",
        "* You must ask and answer at least 5 questions about the dataset\n",
        "* Your submission must include at least 5 visualizations (graphs)\n",
        "* Your submission must include explanations using markdown cells, apart from the code.\n",
        "* Your work must not be plagiarized i.e. copy-pasted from somewhere else.\n",
        "\n",
        "\n",
        "Follow this step-by-step guide to work on your project.\n",
        "\n",
        "### Step 1: Select a real-world dataset \n",
        "\n",
        "- The Malaysian dataset must be used for your case study.\n",
        "- The dataset is available at:\n",
        "  * [Portal Data Terbuka Malaysia](https://www.data.gov.my/data/ms_MY/dataset)\n",
        "  * [Department of Statistics Malaysia](https://www.dosm.gov.my/v1/index.php?r=column3/accordion&menu_id=amZNeW9vTXRydTFwTXAxSmdDL1J4dz09)\n",
        "  * [data.world](https://data.world/datasets/malaysia)\n",
        "  * [Dataportal.asia](https://dataportal.asia/dataset?vocab_economy_names=Malaysia)\n",
        "  *[knoema](https://knoema.com/atlas/Malaysia/datasets)\n",
        "  *[The World Bank](https://data.worldbank.org/country/MY)\n",
        "  * [Dataset Search - Google](https://datasetsearch.research.google.com/)\n",
        "  * [UCI Machine Learning Repository](https://archive.ics.uci.edu/ml/datasets.php)\n",
        "  * [Kaggle datasets](https://www.kaggle.com/datasets)\n",
        "  * [Awesome-public-datasets](https://github.com/awesomedata/awesome-public-datasets)\n",
        "  * [Datahub.io](https://datahub.io/collections)\n",
        "  * [Earthdata](https://www.earthdata.nasa.gov/)\n",
        "  * [CERN Open Data Portal](http://opendata.cern.ch/)\n",
        "\n",
        "### Step 2: Perform data preparation & cleaning\n",
        "\n",
        "- Load the dataset into a data frame using Pandas\n",
        "- Explore the number of rows & columns, ranges of values etc.\n",
        "- Handle missing, incorrect and invalid data\n",
        "- Perform any additional steps (parsing dates, creating additional columns, merging multiple dataset etc.)\n",
        "\n",
        "\n",
        "### Step 3: Perform exploratory analysis & visualization\n",
        "\n",
        "- Compute the mean, sum, range and other interesting statistics for numeric columns\n",
        "- Explore distributions of numeric columns using histograms etc.\n",
        "- Explore relationship between columns using scatter plots, bar charts etc.\n",
        "- Make a note of interesting insights from the exploratory analysis\n",
        "\n",
        "### Step 4: Ask & answer questions about the data\n",
        "\n",
        "- Ask at least 4 interesting questions about your dataset\n",
        "- Answer the questions either by computing the results using Numpy/Pandas or by plotting graphs using Matplotlib/Seaborn\n",
        "- Create new columns, merge multiple dataset and perform grouping/aggregation wherever necessary\n",
        "- Wherever you're using a library function from Pandas/Numpy/Matplotlib etc. explain briefly what it does\n",
        "\n",
        "\n",
        "### Step 5: Summarize your inferences & write a conclusion\n",
        "\n",
        "- Write a summary of what you've learned from the analysis\n",
        "- Include interesting insights and graphs from previous sections\n",
        "- Share ideas for future work on the same topic using other relevant datasets\n",
        "- Share links to resources you found useful during your analysis\n",
        "\n",
        "### Step 6: Make a submission\n",
        "\n",
        "- Upload your notebook to e-learning.\n",
        "\n",
        "\n",
        "### Example Projects\n",
        "\n",
        "Refer to these projects for inspiration:\n",
        "\n",
        "* [Malaysia Immunisation Progress](https://www.kaggle.com/code/koayhongvin/malaysia-immunisation-progress)\n",
        "\n",
        "* [Malaysia Crop EDA](https://www.kaggle.com/code/nazihahnajla/malaysia-crop-eda)\n",
        "\n",
        "* [ASEAN Democracy Index EDA](https://www.kaggle.com/code/aradinka/asean-democracy-index-eda)\n",
        "\n",
        "* [Men's International Football Analysis](https://www.kaggle.com/code/rittickchakraborty/men-s-international-football-analysis) \n",
        "\n",
        "* [Data Science Job Salaries Analysis with Python](https://www.kaggle.com/code/muliasujiastuti/data-science-job-salaries-analysis-with-python)\n",
        "\n",
        "* [Alteration in Technology and Job Role in 2022\n",
        "](https://www.kaggle.com/code/summerakousar/alteration-in-technology-and-job-role-in-2022)\n",
        "\n",
        "* [Data Cleaning Challenge: Inconsistent Data Entry](https://www.kaggle.com/code/melanieng/data-cleaning-challenge-inconsistent-data-entry#Get-our-environment-set-up)\n",
        "\n",
        "**NOTE**: Remove this cell containing the instructions before making your submission. You can do using the \"Edit > Delete Cells\" menu option."
      ]
    },
    {
      "cell_type": "markdown",
      "metadata": {
        "id": "7F8DQl5dVJJ0"
      },
      "source": [
        "# Project Title - change this <a href=\"https://www.utm.my\" target=\"_parent\"><img src=\"https://colab.research.google.com/assets/colab-badge.svg\" alt=\"Open In Colab\"/></a>\n",
        "\n",
        "TODO - Write some introduction about your project here: describe the dataset, where you got it from, what you're trying to do with it, and which tools & techniques you're using. Please provide your group member name and their matrix number."
      ]
    },
    {
      "cell_type": "markdown",
      "metadata": {
        "id": "LxWzVndBVJJ1"
      },
      "source": [
        "## Downloading the Dataset\n",
        "\n",
        "**TODO** - add some explanation here"
      ]
    },
    {
      "cell_type": "markdown",
      "metadata": {
        "id": "oHRcyidmVJJ1"
      },
      "source": [
        "\n",
        "> Instructions for downloading the dataset (delete this cell) - Dataset in Gi\n"
      ]
    },
    {
      "cell_type": "code",
      "execution_count": null,
      "metadata": {
        "id": "_s6ZSPWYVJJ2"
      },
      "outputs": [],
      "source": [
        "import pandas as pd\n",
        "import numpy as np"
      ]
    },
    {
      "cell_type": "markdown",
      "metadata": {
        "id": "GhhO14GEVJJ2"
      },
      "source": [
        "Let's begin by downloading the data, and listing the files within the dataset."
      ]
    },
    {
      "cell_type": "code",
      "source": [
        "from google.colab import drive\n",
        "drive.mount('/content/drive')"
      ],
      "metadata": {
        "colab": {
          "base_uri": "https://localhost:8080/"
        },
        "id": "A4nF-4tHZ_Ma",
        "outputId": "fc51447b-b9df-4cbc-81ad-a4b9b24189c7"
      },
      "execution_count": null,
      "outputs": [
        {
          "output_type": "stream",
          "name": "stdout",
          "text": [
            "Mounted at /content/drive\n"
          ]
        }
      ]
    },
    {
      "cell_type": "code",
      "execution_count": null,
      "metadata": {
        "id": "oAVmLuq2VJJ3",
        "colab": {
          "base_uri": "https://localhost:8080/",
          "height": 423
        },
        "outputId": "04b7dd01-07f5-4f7f-e43b-c49709f5fee8"
      },
      "outputs": [
        {
          "output_type": "execute_result",
          "data": {
            "text/plain": [
              "                                                  Title       Price  \\\n",
              "0     M City Serviced Residence Jalan Ampang 886sf, ...  RM 690 000   \n",
              "1     Cheapest fully furnished suria jelatek residen...  RM 420 000   \n",
              "2     3bed 2bath Suria Jelatek Condo 5 min to LRT an...  RM 420 000   \n",
              "3     [30% Below,1037sf] Direct Subsale not Auction!...  RM 568 444   \n",
              "4     HOT area | Tiara Ampang | Near Ampang Point | ...  RM 618 000   \n",
              "...                                                 ...         ...   \n",
              "7786  [FIRE SALE]SERINI MELAWATI|STUDIO|FREEHOLD|the...  RM 390 000   \n",
              "7787  [Serini Condominium Taman Melawati] NICE VIEW!...  RM 585 000   \n",
              "7788  (STRATA!!) Desaku 3 Condominium, Taman Melawat...  RM 310 000   \n",
              "7789                                    Serini for sale  RM 595 000   \n",
              "7790    Gaya, Studio Unit, near Melawati Mall for sale.  RM 360 000   \n",
              "\n",
              "                Area    Category         Size    Bedrooms    Bathrooms  \n",
              "0             AMPANG  Apartments   886 sq.ft.  2 Bedrooms  2 Bathrooms  \n",
              "1             AMPANG  Apartments   858 sq.ft.  3 Bedrooms  2 Bathrooms  \n",
              "2             AMPANG  Apartments   860 sq.ft.  3 Bedrooms  2 Bathrooms  \n",
              "3             AMPANG  Apartments  1037 sq.ft.  3 Bedrooms  2 Bathrooms  \n",
              "4             AMPANG  Apartments  1650 sq.ft.  4 Bedrooms  2 Bathrooms  \n",
              "...              ...         ...          ...         ...          ...  \n",
              "7786  TAMAN MELAWATI  Apartments   669 sq.ft.  2 Bedrooms   1 Bathroom  \n",
              "7787  TAMAN MELAWATI  Apartments   836 sq.ft.  2 Bedrooms  2 Bathrooms  \n",
              "7788  TAMAN MELAWATI  Apartments   883 sq.ft.  3 Bedrooms  2 Bathrooms  \n",
              "7789  TAMAN MELAWATI  Apartments   836 sq.ft.  2 Bedrooms  2 Bathrooms  \n",
              "7790  TAMAN MELAWATI  Apartments   490 sq.ft.   1 Bedroom   1 Bathroom  \n",
              "\n",
              "[7791 rows x 7 columns]"
            ],
            "text/html": [
              "\n",
              "  <div id=\"df-e5e70394-66a7-4f3d-9121-74cdfddb35d2\">\n",
              "    <div class=\"colab-df-container\">\n",
              "      <div>\n",
              "<style scoped>\n",
              "    .dataframe tbody tr th:only-of-type {\n",
              "        vertical-align: middle;\n",
              "    }\n",
              "\n",
              "    .dataframe tbody tr th {\n",
              "        vertical-align: top;\n",
              "    }\n",
              "\n",
              "    .dataframe thead th {\n",
              "        text-align: right;\n",
              "    }\n",
              "</style>\n",
              "<table border=\"1\" class=\"dataframe\">\n",
              "  <thead>\n",
              "    <tr style=\"text-align: right;\">\n",
              "      <th></th>\n",
              "      <th>Title</th>\n",
              "      <th>Price</th>\n",
              "      <th>Area</th>\n",
              "      <th>Category</th>\n",
              "      <th>Size</th>\n",
              "      <th>Bedrooms</th>\n",
              "      <th>Bathrooms</th>\n",
              "    </tr>\n",
              "  </thead>\n",
              "  <tbody>\n",
              "    <tr>\n",
              "      <th>0</th>\n",
              "      <td>M City Serviced Residence Jalan Ampang 886sf, ...</td>\n",
              "      <td>RM 690 000</td>\n",
              "      <td>AMPANG</td>\n",
              "      <td>Apartments</td>\n",
              "      <td>886 sq.ft.</td>\n",
              "      <td>2 Bedrooms</td>\n",
              "      <td>2 Bathrooms</td>\n",
              "    </tr>\n",
              "    <tr>\n",
              "      <th>1</th>\n",
              "      <td>Cheapest fully furnished suria jelatek residen...</td>\n",
              "      <td>RM 420 000</td>\n",
              "      <td>AMPANG</td>\n",
              "      <td>Apartments</td>\n",
              "      <td>858 sq.ft.</td>\n",
              "      <td>3 Bedrooms</td>\n",
              "      <td>2 Bathrooms</td>\n",
              "    </tr>\n",
              "    <tr>\n",
              "      <th>2</th>\n",
              "      <td>3bed 2bath Suria Jelatek Condo 5 min to LRT an...</td>\n",
              "      <td>RM 420 000</td>\n",
              "      <td>AMPANG</td>\n",
              "      <td>Apartments</td>\n",
              "      <td>860 sq.ft.</td>\n",
              "      <td>3 Bedrooms</td>\n",
              "      <td>2 Bathrooms</td>\n",
              "    </tr>\n",
              "    <tr>\n",
              "      <th>3</th>\n",
              "      <td>[30% Below,1037sf] Direct Subsale not Auction!...</td>\n",
              "      <td>RM 568 444</td>\n",
              "      <td>AMPANG</td>\n",
              "      <td>Apartments</td>\n",
              "      <td>1037 sq.ft.</td>\n",
              "      <td>3 Bedrooms</td>\n",
              "      <td>2 Bathrooms</td>\n",
              "    </tr>\n",
              "    <tr>\n",
              "      <th>4</th>\n",
              "      <td>HOT area | Tiara Ampang | Near Ampang Point | ...</td>\n",
              "      <td>RM 618 000</td>\n",
              "      <td>AMPANG</td>\n",
              "      <td>Apartments</td>\n",
              "      <td>1650 sq.ft.</td>\n",
              "      <td>4 Bedrooms</td>\n",
              "      <td>2 Bathrooms</td>\n",
              "    </tr>\n",
              "    <tr>\n",
              "      <th>...</th>\n",
              "      <td>...</td>\n",
              "      <td>...</td>\n",
              "      <td>...</td>\n",
              "      <td>...</td>\n",
              "      <td>...</td>\n",
              "      <td>...</td>\n",
              "      <td>...</td>\n",
              "    </tr>\n",
              "    <tr>\n",
              "      <th>7786</th>\n",
              "      <td>[FIRE SALE]SERINI MELAWATI|STUDIO|FREEHOLD|the...</td>\n",
              "      <td>RM 390 000</td>\n",
              "      <td>TAMAN MELAWATI</td>\n",
              "      <td>Apartments</td>\n",
              "      <td>669 sq.ft.</td>\n",
              "      <td>2 Bedrooms</td>\n",
              "      <td>1 Bathroom</td>\n",
              "    </tr>\n",
              "    <tr>\n",
              "      <th>7787</th>\n",
              "      <td>[Serini Condominium Taman Melawati] NICE VIEW!...</td>\n",
              "      <td>RM 585 000</td>\n",
              "      <td>TAMAN MELAWATI</td>\n",
              "      <td>Apartments</td>\n",
              "      <td>836 sq.ft.</td>\n",
              "      <td>2 Bedrooms</td>\n",
              "      <td>2 Bathrooms</td>\n",
              "    </tr>\n",
              "    <tr>\n",
              "      <th>7788</th>\n",
              "      <td>(STRATA!!) Desaku 3 Condominium, Taman Melawat...</td>\n",
              "      <td>RM 310 000</td>\n",
              "      <td>TAMAN MELAWATI</td>\n",
              "      <td>Apartments</td>\n",
              "      <td>883 sq.ft.</td>\n",
              "      <td>3 Bedrooms</td>\n",
              "      <td>2 Bathrooms</td>\n",
              "    </tr>\n",
              "    <tr>\n",
              "      <th>7789</th>\n",
              "      <td>Serini for sale</td>\n",
              "      <td>RM 595 000</td>\n",
              "      <td>TAMAN MELAWATI</td>\n",
              "      <td>Apartments</td>\n",
              "      <td>836 sq.ft.</td>\n",
              "      <td>2 Bedrooms</td>\n",
              "      <td>2 Bathrooms</td>\n",
              "    </tr>\n",
              "    <tr>\n",
              "      <th>7790</th>\n",
              "      <td>Gaya, Studio Unit, near Melawati Mall for sale.</td>\n",
              "      <td>RM 360 000</td>\n",
              "      <td>TAMAN MELAWATI</td>\n",
              "      <td>Apartments</td>\n",
              "      <td>490 sq.ft.</td>\n",
              "      <td>1 Bedroom</td>\n",
              "      <td>1 Bathroom</td>\n",
              "    </tr>\n",
              "  </tbody>\n",
              "</table>\n",
              "<p>7791 rows × 7 columns</p>\n",
              "</div>\n",
              "      <button class=\"colab-df-convert\" onclick=\"convertToInteractive('df-e5e70394-66a7-4f3d-9121-74cdfddb35d2')\"\n",
              "              title=\"Convert this dataframe to an interactive table.\"\n",
              "              style=\"display:none;\">\n",
              "        \n",
              "  <svg xmlns=\"http://www.w3.org/2000/svg\" height=\"24px\"viewBox=\"0 0 24 24\"\n",
              "       width=\"24px\">\n",
              "    <path d=\"M0 0h24v24H0V0z\" fill=\"none\"/>\n",
              "    <path d=\"M18.56 5.44l.94 2.06.94-2.06 2.06-.94-2.06-.94-.94-2.06-.94 2.06-2.06.94zm-11 1L8.5 8.5l.94-2.06 2.06-.94-2.06-.94L8.5 2.5l-.94 2.06-2.06.94zm10 10l.94 2.06.94-2.06 2.06-.94-2.06-.94-.94-2.06-.94 2.06-2.06.94z\"/><path d=\"M17.41 7.96l-1.37-1.37c-.4-.4-.92-.59-1.43-.59-.52 0-1.04.2-1.43.59L10.3 9.45l-7.72 7.72c-.78.78-.78 2.05 0 2.83L4 21.41c.39.39.9.59 1.41.59.51 0 1.02-.2 1.41-.59l7.78-7.78 2.81-2.81c.8-.78.8-2.07 0-2.86zM5.41 20L4 18.59l7.72-7.72 1.47 1.35L5.41 20z\"/>\n",
              "  </svg>\n",
              "      </button>\n",
              "      \n",
              "  <style>\n",
              "    .colab-df-container {\n",
              "      display:flex;\n",
              "      flex-wrap:wrap;\n",
              "      gap: 12px;\n",
              "    }\n",
              "\n",
              "    .colab-df-convert {\n",
              "      background-color: #E8F0FE;\n",
              "      border: none;\n",
              "      border-radius: 50%;\n",
              "      cursor: pointer;\n",
              "      display: none;\n",
              "      fill: #1967D2;\n",
              "      height: 32px;\n",
              "      padding: 0 0 0 0;\n",
              "      width: 32px;\n",
              "    }\n",
              "\n",
              "    .colab-df-convert:hover {\n",
              "      background-color: #E2EBFA;\n",
              "      box-shadow: 0px 1px 2px rgba(60, 64, 67, 0.3), 0px 1px 3px 1px rgba(60, 64, 67, 0.15);\n",
              "      fill: #174EA6;\n",
              "    }\n",
              "\n",
              "    [theme=dark] .colab-df-convert {\n",
              "      background-color: #3B4455;\n",
              "      fill: #D2E3FC;\n",
              "    }\n",
              "\n",
              "    [theme=dark] .colab-df-convert:hover {\n",
              "      background-color: #434B5C;\n",
              "      box-shadow: 0px 1px 3px 1px rgba(0, 0, 0, 0.15);\n",
              "      filter: drop-shadow(0px 1px 2px rgba(0, 0, 0, 0.3));\n",
              "      fill: #FFFFFF;\n",
              "    }\n",
              "  </style>\n",
              "\n",
              "      <script>\n",
              "        const buttonEl =\n",
              "          document.querySelector('#df-e5e70394-66a7-4f3d-9121-74cdfddb35d2 button.colab-df-convert');\n",
              "        buttonEl.style.display =\n",
              "          google.colab.kernel.accessAllowed ? 'block' : 'none';\n",
              "\n",
              "        async function convertToInteractive(key) {\n",
              "          const element = document.querySelector('#df-e5e70394-66a7-4f3d-9121-74cdfddb35d2');\n",
              "          const dataTable =\n",
              "            await google.colab.kernel.invokeFunction('convertToInteractive',\n",
              "                                                     [key], {});\n",
              "          if (!dataTable) return;\n",
              "\n",
              "          const docLinkHtml = 'Like what you see? Visit the ' +\n",
              "            '<a target=\"_blank\" href=https://colab.research.google.com/notebooks/data_table.ipynb>data table notebook</a>'\n",
              "            + ' to learn more about interactive tables.';\n",
              "          element.innerHTML = '';\n",
              "          dataTable['output_type'] = 'display_data';\n",
              "          await google.colab.output.renderOutput(dataTable, element);\n",
              "          const docLink = document.createElement('div');\n",
              "          docLink.innerHTML = docLinkHtml;\n",
              "          element.appendChild(docLink);\n",
              "        }\n",
              "      </script>\n",
              "    </div>\n",
              "  </div>\n",
              "  "
            ]
          },
          "metadata": {},
          "execution_count": 4
        }
      ],
      "source": [
        "df = pd.read_csv('/content/drive/MyDrive/Colab Notebooks/kl_properties.csv')\n",
        "df"
      ]
    },
    {
      "cell_type": "markdown",
      "metadata": {
        "id": "XXnPmr-JVJJ3"
      },
      "source": [
        "The dataset has been downloaded and extracted."
      ]
    },
    {
      "cell_type": "code",
      "execution_count": null,
      "metadata": {
        "id": "uowAPeffVJJ4",
        "colab": {
          "base_uri": "https://localhost:8080/"
        },
        "outputId": "ad92597c-24e1-494c-b994-80c461801272"
      },
      "outputs": [
        {
          "output_type": "execute_result",
          "data": {
            "text/plain": [
              "Title        object\n",
              "Price        object\n",
              "Area         object\n",
              "Category     object\n",
              "Size         object\n",
              "Bedrooms     object\n",
              "Bathrooms    object\n",
              "dtype: object"
            ]
          },
          "metadata": {},
          "execution_count": 5
        }
      ],
      "source": [
        "df.dtypes"
      ]
    },
    {
      "cell_type": "markdown",
      "metadata": {
        "id": "Jnx4zelxVJJ4"
      },
      "source": [
        "Next step"
      ]
    },
    {
      "cell_type": "code",
      "execution_count": null,
      "metadata": {
        "id": "fVjJerS1VJJ5"
      },
      "outputs": [],
      "source": []
    },
    {
      "cell_type": "markdown",
      "metadata": {
        "id": "u0vucnGFVJJ5"
      },
      "source": [
        "## Data Preparation and Cleaning\n",
        "\n",
        "**TODO** - Write some explanation here.\n",
        "\n"
      ]
    },
    {
      "cell_type": "markdown",
      "metadata": {
        "id": "gBzC1JheVJJ5"
      },
      "source": [
        "> Instructions (delete this cell):\n",
        ">\n",
        "> - Load the dataset into a data frame using Pandas\n",
        "> - Explore the number of rows & columns, ranges of values etc.\n",
        "> - Handle missing, incorrect and invalid data\n",
        "> - Perform any additional steps (parsing dates, creating additional columns, merging multiple dataset etc.)"
      ]
    },
    {
      "cell_type": "markdown",
      "source": [
        "#### Loading data using pandas"
      ],
      "metadata": {
        "id": "KtertKWKxM5O"
      }
    },
    {
      "cell_type": "code",
      "execution_count": null,
      "metadata": {
        "id": "df5R-2s3VJJ5"
      },
      "outputs": [],
      "source": [
        "datafile = '/content/drive/MyDrive/Colab Notebooks/kl_properties.csv'\n",
        "df = pd.read_csv(datafile)"
      ]
    },
    {
      "cell_type": "markdown",
      "source": [
        "#### the first 5 row of the data"
      ],
      "metadata": {
        "id": "dMBwFS7Exn6R"
      }
    },
    {
      "cell_type": "code",
      "execution_count": null,
      "metadata": {
        "id": "t26lvNVLVJJ5",
        "colab": {
          "base_uri": "https://localhost:8080/",
          "height": 206
        },
        "outputId": "9cf675c5-ea99-489b-ece7-56e9cc65e192"
      },
      "outputs": [
        {
          "output_type": "execute_result",
          "data": {
            "text/plain": [
              "                                               Title       Price    Area  \\\n",
              "0  M City Serviced Residence Jalan Ampang 886sf, ...  RM 690 000  AMPANG   \n",
              "1  Cheapest fully furnished suria jelatek residen...  RM 420 000  AMPANG   \n",
              "2  3bed 2bath Suria Jelatek Condo 5 min to LRT an...  RM 420 000  AMPANG   \n",
              "3  [30% Below,1037sf] Direct Subsale not Auction!...  RM 568 444  AMPANG   \n",
              "4  HOT area | Tiara Ampang | Near Ampang Point | ...  RM 618 000  AMPANG   \n",
              "\n",
              "     Category         Size    Bedrooms    Bathrooms  \n",
              "0  Apartments   886 sq.ft.  2 Bedrooms  2 Bathrooms  \n",
              "1  Apartments   858 sq.ft.  3 Bedrooms  2 Bathrooms  \n",
              "2  Apartments   860 sq.ft.  3 Bedrooms  2 Bathrooms  \n",
              "3  Apartments  1037 sq.ft.  3 Bedrooms  2 Bathrooms  \n",
              "4  Apartments  1650 sq.ft.  4 Bedrooms  2 Bathrooms  "
            ],
            "text/html": [
              "\n",
              "  <div id=\"df-832a650c-035c-47ca-9d0c-2e3b9cc7c0ea\">\n",
              "    <div class=\"colab-df-container\">\n",
              "      <div>\n",
              "<style scoped>\n",
              "    .dataframe tbody tr th:only-of-type {\n",
              "        vertical-align: middle;\n",
              "    }\n",
              "\n",
              "    .dataframe tbody tr th {\n",
              "        vertical-align: top;\n",
              "    }\n",
              "\n",
              "    .dataframe thead th {\n",
              "        text-align: right;\n",
              "    }\n",
              "</style>\n",
              "<table border=\"1\" class=\"dataframe\">\n",
              "  <thead>\n",
              "    <tr style=\"text-align: right;\">\n",
              "      <th></th>\n",
              "      <th>Title</th>\n",
              "      <th>Price</th>\n",
              "      <th>Area</th>\n",
              "      <th>Category</th>\n",
              "      <th>Size</th>\n",
              "      <th>Bedrooms</th>\n",
              "      <th>Bathrooms</th>\n",
              "    </tr>\n",
              "  </thead>\n",
              "  <tbody>\n",
              "    <tr>\n",
              "      <th>0</th>\n",
              "      <td>M City Serviced Residence Jalan Ampang 886sf, ...</td>\n",
              "      <td>RM 690 000</td>\n",
              "      <td>AMPANG</td>\n",
              "      <td>Apartments</td>\n",
              "      <td>886 sq.ft.</td>\n",
              "      <td>2 Bedrooms</td>\n",
              "      <td>2 Bathrooms</td>\n",
              "    </tr>\n",
              "    <tr>\n",
              "      <th>1</th>\n",
              "      <td>Cheapest fully furnished suria jelatek residen...</td>\n",
              "      <td>RM 420 000</td>\n",
              "      <td>AMPANG</td>\n",
              "      <td>Apartments</td>\n",
              "      <td>858 sq.ft.</td>\n",
              "      <td>3 Bedrooms</td>\n",
              "      <td>2 Bathrooms</td>\n",
              "    </tr>\n",
              "    <tr>\n",
              "      <th>2</th>\n",
              "      <td>3bed 2bath Suria Jelatek Condo 5 min to LRT an...</td>\n",
              "      <td>RM 420 000</td>\n",
              "      <td>AMPANG</td>\n",
              "      <td>Apartments</td>\n",
              "      <td>860 sq.ft.</td>\n",
              "      <td>3 Bedrooms</td>\n",
              "      <td>2 Bathrooms</td>\n",
              "    </tr>\n",
              "    <tr>\n",
              "      <th>3</th>\n",
              "      <td>[30% Below,1037sf] Direct Subsale not Auction!...</td>\n",
              "      <td>RM 568 444</td>\n",
              "      <td>AMPANG</td>\n",
              "      <td>Apartments</td>\n",
              "      <td>1037 sq.ft.</td>\n",
              "      <td>3 Bedrooms</td>\n",
              "      <td>2 Bathrooms</td>\n",
              "    </tr>\n",
              "    <tr>\n",
              "      <th>4</th>\n",
              "      <td>HOT area | Tiara Ampang | Near Ampang Point | ...</td>\n",
              "      <td>RM 618 000</td>\n",
              "      <td>AMPANG</td>\n",
              "      <td>Apartments</td>\n",
              "      <td>1650 sq.ft.</td>\n",
              "      <td>4 Bedrooms</td>\n",
              "      <td>2 Bathrooms</td>\n",
              "    </tr>\n",
              "  </tbody>\n",
              "</table>\n",
              "</div>\n",
              "      <button class=\"colab-df-convert\" onclick=\"convertToInteractive('df-832a650c-035c-47ca-9d0c-2e3b9cc7c0ea')\"\n",
              "              title=\"Convert this dataframe to an interactive table.\"\n",
              "              style=\"display:none;\">\n",
              "        \n",
              "  <svg xmlns=\"http://www.w3.org/2000/svg\" height=\"24px\"viewBox=\"0 0 24 24\"\n",
              "       width=\"24px\">\n",
              "    <path d=\"M0 0h24v24H0V0z\" fill=\"none\"/>\n",
              "    <path d=\"M18.56 5.44l.94 2.06.94-2.06 2.06-.94-2.06-.94-.94-2.06-.94 2.06-2.06.94zm-11 1L8.5 8.5l.94-2.06 2.06-.94-2.06-.94L8.5 2.5l-.94 2.06-2.06.94zm10 10l.94 2.06.94-2.06 2.06-.94-2.06-.94-.94-2.06-.94 2.06-2.06.94z\"/><path d=\"M17.41 7.96l-1.37-1.37c-.4-.4-.92-.59-1.43-.59-.52 0-1.04.2-1.43.59L10.3 9.45l-7.72 7.72c-.78.78-.78 2.05 0 2.83L4 21.41c.39.39.9.59 1.41.59.51 0 1.02-.2 1.41-.59l7.78-7.78 2.81-2.81c.8-.78.8-2.07 0-2.86zM5.41 20L4 18.59l7.72-7.72 1.47 1.35L5.41 20z\"/>\n",
              "  </svg>\n",
              "      </button>\n",
              "      \n",
              "  <style>\n",
              "    .colab-df-container {\n",
              "      display:flex;\n",
              "      flex-wrap:wrap;\n",
              "      gap: 12px;\n",
              "    }\n",
              "\n",
              "    .colab-df-convert {\n",
              "      background-color: #E8F0FE;\n",
              "      border: none;\n",
              "      border-radius: 50%;\n",
              "      cursor: pointer;\n",
              "      display: none;\n",
              "      fill: #1967D2;\n",
              "      height: 32px;\n",
              "      padding: 0 0 0 0;\n",
              "      width: 32px;\n",
              "    }\n",
              "\n",
              "    .colab-df-convert:hover {\n",
              "      background-color: #E2EBFA;\n",
              "      box-shadow: 0px 1px 2px rgba(60, 64, 67, 0.3), 0px 1px 3px 1px rgba(60, 64, 67, 0.15);\n",
              "      fill: #174EA6;\n",
              "    }\n",
              "\n",
              "    [theme=dark] .colab-df-convert {\n",
              "      background-color: #3B4455;\n",
              "      fill: #D2E3FC;\n",
              "    }\n",
              "\n",
              "    [theme=dark] .colab-df-convert:hover {\n",
              "      background-color: #434B5C;\n",
              "      box-shadow: 0px 1px 3px 1px rgba(0, 0, 0, 0.15);\n",
              "      filter: drop-shadow(0px 1px 2px rgba(0, 0, 0, 0.3));\n",
              "      fill: #FFFFFF;\n",
              "    }\n",
              "  </style>\n",
              "\n",
              "      <script>\n",
              "        const buttonEl =\n",
              "          document.querySelector('#df-832a650c-035c-47ca-9d0c-2e3b9cc7c0ea button.colab-df-convert');\n",
              "        buttonEl.style.display =\n",
              "          google.colab.kernel.accessAllowed ? 'block' : 'none';\n",
              "\n",
              "        async function convertToInteractive(key) {\n",
              "          const element = document.querySelector('#df-832a650c-035c-47ca-9d0c-2e3b9cc7c0ea');\n",
              "          const dataTable =\n",
              "            await google.colab.kernel.invokeFunction('convertToInteractive',\n",
              "                                                     [key], {});\n",
              "          if (!dataTable) return;\n",
              "\n",
              "          const docLinkHtml = 'Like what you see? Visit the ' +\n",
              "            '<a target=\"_blank\" href=https://colab.research.google.com/notebooks/data_table.ipynb>data table notebook</a>'\n",
              "            + ' to learn more about interactive tables.';\n",
              "          element.innerHTML = '';\n",
              "          dataTable['output_type'] = 'display_data';\n",
              "          await google.colab.output.renderOutput(dataTable, element);\n",
              "          const docLink = document.createElement('div');\n",
              "          docLink.innerHTML = docLinkHtml;\n",
              "          element.appendChild(docLink);\n",
              "        }\n",
              "      </script>\n",
              "    </div>\n",
              "  </div>\n",
              "  "
            ]
          },
          "metadata": {},
          "execution_count": 131
        }
      ],
      "source": [
        "df.head()"
      ]
    },
    {
      "cell_type": "markdown",
      "source": [
        "#### number of row, column, range"
      ],
      "metadata": {
        "id": "W1LvNsOCxxOH"
      }
    },
    {
      "cell_type": "code",
      "execution_count": null,
      "metadata": {
        "id": "KribcC_XVJJ5",
        "colab": {
          "base_uri": "https://localhost:8080/"
        },
        "outputId": "098e6ef4-82da-498d-9a41-9e35dad1937d"
      },
      "outputs": [
        {
          "output_type": "stream",
          "name": "stdout",
          "text": [
            "<class 'pandas.core.frame.DataFrame'>\n",
            "RangeIndex: 7791 entries, 0 to 7790\n",
            "Data columns (total 7 columns):\n",
            " #   Column     Non-Null Count  Dtype \n",
            "---  ------     --------------  ----- \n",
            " 0   Title      7791 non-null   object\n",
            " 1   Price      7791 non-null   object\n",
            " 2   Area       7791 non-null   object\n",
            " 3   Category   7791 non-null   object\n",
            " 4   Size       7791 non-null   object\n",
            " 5   Bedrooms   7791 non-null   object\n",
            " 6   Bathrooms  7791 non-null   object\n",
            "dtypes: object(7)\n",
            "memory usage: 426.2+ KB\n"
          ]
        }
      ],
      "source": [
        "df.info()"
      ]
    },
    {
      "cell_type": "markdown",
      "source": [
        "#### check if NaN exist"
      ],
      "metadata": {
        "id": "Uq6AqZyPyZLw"
      }
    },
    {
      "cell_type": "code",
      "execution_count": null,
      "metadata": {
        "id": "7mUpY22aVJJ6",
        "colab": {
          "base_uri": "https://localhost:8080/"
        },
        "outputId": "039a34c4-90a5-4b45-b69f-394593da5e01"
      },
      "outputs": [
        {
          "output_type": "execute_result",
          "data": {
            "text/plain": [
              "Title        0\n",
              "Price        0\n",
              "Area         0\n",
              "Category     0\n",
              "Size         0\n",
              "Bedrooms     0\n",
              "Bathrooms    0\n",
              "dtype: int64"
            ]
          },
          "metadata": {},
          "execution_count": 133
        }
      ],
      "source": [
        "df.isnull().sum(axis=0)"
      ]
    },
    {
      "cell_type": "markdown",
      "source": [
        "#### drop unwanted column"
      ],
      "metadata": {
        "id": "llpAoUDGyfsf"
      }
    },
    {
      "cell_type": "code",
      "execution_count": null,
      "metadata": {
        "id": "h46ilQakVJJ6",
        "colab": {
          "base_uri": "https://localhost:8080/",
          "height": 206
        },
        "outputId": "e81be0ce-11d5-4232-819f-20cf58aed3a7"
      },
      "outputs": [
        {
          "output_type": "execute_result",
          "data": {
            "text/plain": [
              "        Price    Area    Category         Size    Bedrooms    Bathrooms\n",
              "0  RM 690 000  AMPANG  Apartments   886 sq.ft.  2 Bedrooms  2 Bathrooms\n",
              "1  RM 420 000  AMPANG  Apartments   858 sq.ft.  3 Bedrooms  2 Bathrooms\n",
              "2  RM 420 000  AMPANG  Apartments   860 sq.ft.  3 Bedrooms  2 Bathrooms\n",
              "3  RM 568 444  AMPANG  Apartments  1037 sq.ft.  3 Bedrooms  2 Bathrooms\n",
              "4  RM 618 000  AMPANG  Apartments  1650 sq.ft.  4 Bedrooms  2 Bathrooms"
            ],
            "text/html": [
              "\n",
              "  <div id=\"df-c40f76ea-e9e7-4843-aa6b-a9a1a91f383e\">\n",
              "    <div class=\"colab-df-container\">\n",
              "      <div>\n",
              "<style scoped>\n",
              "    .dataframe tbody tr th:only-of-type {\n",
              "        vertical-align: middle;\n",
              "    }\n",
              "\n",
              "    .dataframe tbody tr th {\n",
              "        vertical-align: top;\n",
              "    }\n",
              "\n",
              "    .dataframe thead th {\n",
              "        text-align: right;\n",
              "    }\n",
              "</style>\n",
              "<table border=\"1\" class=\"dataframe\">\n",
              "  <thead>\n",
              "    <tr style=\"text-align: right;\">\n",
              "      <th></th>\n",
              "      <th>Price</th>\n",
              "      <th>Area</th>\n",
              "      <th>Category</th>\n",
              "      <th>Size</th>\n",
              "      <th>Bedrooms</th>\n",
              "      <th>Bathrooms</th>\n",
              "    </tr>\n",
              "  </thead>\n",
              "  <tbody>\n",
              "    <tr>\n",
              "      <th>0</th>\n",
              "      <td>RM 690 000</td>\n",
              "      <td>AMPANG</td>\n",
              "      <td>Apartments</td>\n",
              "      <td>886 sq.ft.</td>\n",
              "      <td>2 Bedrooms</td>\n",
              "      <td>2 Bathrooms</td>\n",
              "    </tr>\n",
              "    <tr>\n",
              "      <th>1</th>\n",
              "      <td>RM 420 000</td>\n",
              "      <td>AMPANG</td>\n",
              "      <td>Apartments</td>\n",
              "      <td>858 sq.ft.</td>\n",
              "      <td>3 Bedrooms</td>\n",
              "      <td>2 Bathrooms</td>\n",
              "    </tr>\n",
              "    <tr>\n",
              "      <th>2</th>\n",
              "      <td>RM 420 000</td>\n",
              "      <td>AMPANG</td>\n",
              "      <td>Apartments</td>\n",
              "      <td>860 sq.ft.</td>\n",
              "      <td>3 Bedrooms</td>\n",
              "      <td>2 Bathrooms</td>\n",
              "    </tr>\n",
              "    <tr>\n",
              "      <th>3</th>\n",
              "      <td>RM 568 444</td>\n",
              "      <td>AMPANG</td>\n",
              "      <td>Apartments</td>\n",
              "      <td>1037 sq.ft.</td>\n",
              "      <td>3 Bedrooms</td>\n",
              "      <td>2 Bathrooms</td>\n",
              "    </tr>\n",
              "    <tr>\n",
              "      <th>4</th>\n",
              "      <td>RM 618 000</td>\n",
              "      <td>AMPANG</td>\n",
              "      <td>Apartments</td>\n",
              "      <td>1650 sq.ft.</td>\n",
              "      <td>4 Bedrooms</td>\n",
              "      <td>2 Bathrooms</td>\n",
              "    </tr>\n",
              "  </tbody>\n",
              "</table>\n",
              "</div>\n",
              "      <button class=\"colab-df-convert\" onclick=\"convertToInteractive('df-c40f76ea-e9e7-4843-aa6b-a9a1a91f383e')\"\n",
              "              title=\"Convert this dataframe to an interactive table.\"\n",
              "              style=\"display:none;\">\n",
              "        \n",
              "  <svg xmlns=\"http://www.w3.org/2000/svg\" height=\"24px\"viewBox=\"0 0 24 24\"\n",
              "       width=\"24px\">\n",
              "    <path d=\"M0 0h24v24H0V0z\" fill=\"none\"/>\n",
              "    <path d=\"M18.56 5.44l.94 2.06.94-2.06 2.06-.94-2.06-.94-.94-2.06-.94 2.06-2.06.94zm-11 1L8.5 8.5l.94-2.06 2.06-.94-2.06-.94L8.5 2.5l-.94 2.06-2.06.94zm10 10l.94 2.06.94-2.06 2.06-.94-2.06-.94-.94-2.06-.94 2.06-2.06.94z\"/><path d=\"M17.41 7.96l-1.37-1.37c-.4-.4-.92-.59-1.43-.59-.52 0-1.04.2-1.43.59L10.3 9.45l-7.72 7.72c-.78.78-.78 2.05 0 2.83L4 21.41c.39.39.9.59 1.41.59.51 0 1.02-.2 1.41-.59l7.78-7.78 2.81-2.81c.8-.78.8-2.07 0-2.86zM5.41 20L4 18.59l7.72-7.72 1.47 1.35L5.41 20z\"/>\n",
              "  </svg>\n",
              "      </button>\n",
              "      \n",
              "  <style>\n",
              "    .colab-df-container {\n",
              "      display:flex;\n",
              "      flex-wrap:wrap;\n",
              "      gap: 12px;\n",
              "    }\n",
              "\n",
              "    .colab-df-convert {\n",
              "      background-color: #E8F0FE;\n",
              "      border: none;\n",
              "      border-radius: 50%;\n",
              "      cursor: pointer;\n",
              "      display: none;\n",
              "      fill: #1967D2;\n",
              "      height: 32px;\n",
              "      padding: 0 0 0 0;\n",
              "      width: 32px;\n",
              "    }\n",
              "\n",
              "    .colab-df-convert:hover {\n",
              "      background-color: #E2EBFA;\n",
              "      box-shadow: 0px 1px 2px rgba(60, 64, 67, 0.3), 0px 1px 3px 1px rgba(60, 64, 67, 0.15);\n",
              "      fill: #174EA6;\n",
              "    }\n",
              "\n",
              "    [theme=dark] .colab-df-convert {\n",
              "      background-color: #3B4455;\n",
              "      fill: #D2E3FC;\n",
              "    }\n",
              "\n",
              "    [theme=dark] .colab-df-convert:hover {\n",
              "      background-color: #434B5C;\n",
              "      box-shadow: 0px 1px 3px 1px rgba(0, 0, 0, 0.15);\n",
              "      filter: drop-shadow(0px 1px 2px rgba(0, 0, 0, 0.3));\n",
              "      fill: #FFFFFF;\n",
              "    }\n",
              "  </style>\n",
              "\n",
              "      <script>\n",
              "        const buttonEl =\n",
              "          document.querySelector('#df-c40f76ea-e9e7-4843-aa6b-a9a1a91f383e button.colab-df-convert');\n",
              "        buttonEl.style.display =\n",
              "          google.colab.kernel.accessAllowed ? 'block' : 'none';\n",
              "\n",
              "        async function convertToInteractive(key) {\n",
              "          const element = document.querySelector('#df-c40f76ea-e9e7-4843-aa6b-a9a1a91f383e');\n",
              "          const dataTable =\n",
              "            await google.colab.kernel.invokeFunction('convertToInteractive',\n",
              "                                                     [key], {});\n",
              "          if (!dataTable) return;\n",
              "\n",
              "          const docLinkHtml = 'Like what you see? Visit the ' +\n",
              "            '<a target=\"_blank\" href=https://colab.research.google.com/notebooks/data_table.ipynb>data table notebook</a>'\n",
              "            + ' to learn more about interactive tables.';\n",
              "          element.innerHTML = '';\n",
              "          dataTable['output_type'] = 'display_data';\n",
              "          await google.colab.output.renderOutput(dataTable, element);\n",
              "          const docLink = document.createElement('div');\n",
              "          docLink.innerHTML = docLinkHtml;\n",
              "          element.appendChild(docLink);\n",
              "        }\n",
              "      </script>\n",
              "    </div>\n",
              "  </div>\n",
              "  "
            ]
          },
          "metadata": {},
          "execution_count": 134
        }
      ],
      "source": [
        "df.drop('Title', axis='columns',inplace=True)\n",
        "df.head()"
      ]
    },
    {
      "cell_type": "code",
      "execution_count": null,
      "metadata": {
        "id": "cfcSY6YSVJJ6",
        "colab": {
          "base_uri": "https://localhost:8080/"
        },
        "outputId": "e7d50c16-13c5-4746-9290-a40ea1f167ef"
      },
      "outputs": [
        {
          "output_type": "stream",
          "name": "stderr",
          "text": [
            "<ipython-input-135-ea0828fc097b>:7: FutureWarning: The default value of regex will change from True to False in a future version.\n",
            "  df['Size'] = df['Size'].str.replace(' sq.ft.', '')\n"
          ]
        }
      ],
      "source": [
        "# remove 'RM' sign in 'Price' column and cast the type into int64\n",
        "df['Price'] = df['Price'].str.replace('RM ', '')\n",
        "df['Price'] = df['Price'].str.replace(' ', '')\n",
        "df['Price'] = df['Price'].astype('int64')\n",
        "\n",
        "# remove the unit 'sq.ft.' in 'Size' column and cast into int64\n",
        "df['Size'] = df['Size'].str.replace(' sq.ft.', '')\n",
        "df['Size'] = df['Size'].astype('int64')\n",
        "# remove data that is too small or too big\n",
        "df.drop(df[(df['Size'] <= 10) | (df['Size'] > 100000)].index, axis='index', inplace=True)\n",
        "\n",
        "# remove unit 'Bedrooms' in column 'Bedrooms' and cast into int32\n",
        "df['Bedrooms'] = df['Bedrooms'].str.replace(' Bedrooms', '')\n",
        "df['Bedrooms'] = df['Bedrooms'].str.replace(' Bedroom', '')\n",
        "df['Bedrooms'] = df['Bedrooms'].str.replace('More than 10', '10')\n",
        "df['Bedrooms'] = df['Bedrooms'].astype('int32')\n",
        "\n",
        "# remove unit 'Bathrooms' in column 'Bathrooms' and cast into int32\n",
        "df['Bathrooms'] = df['Bathrooms'].str.replace(' Bathrooms', '')\n",
        "df['Bathrooms'] = df['Bathrooms'].str.replace(' Bathroom', '')\n",
        "df['Bathrooms'] = df['Bathrooms'].str.replace('More than 10', '10')\n",
        "df['Bathrooms'] = df['Bathrooms'].astype('int32')"
      ]
    },
    {
      "cell_type": "code",
      "execution_count": null,
      "metadata": {
        "id": "HsDyuPIgVJJ6",
        "colab": {
          "base_uri": "https://localhost:8080/"
        },
        "outputId": "6024d97d-1acb-4743-a0da-e7056d5e4e3c"
      },
      "outputs": [
        {
          "output_type": "stream",
          "name": "stdout",
          "text": [
            "<class 'pandas.core.frame.DataFrame'>\n",
            "Int64Index: 7787 entries, 0 to 7790\n",
            "Data columns (total 6 columns):\n",
            " #   Column     Non-Null Count  Dtype \n",
            "---  ------     --------------  ----- \n",
            " 0   Price      7787 non-null   int64 \n",
            " 1   Area       7787 non-null   object\n",
            " 2   Category   7787 non-null   object\n",
            " 3   Size       7787 non-null   int64 \n",
            " 4   Bedrooms   7787 non-null   int32 \n",
            " 5   Bathrooms  7787 non-null   int32 \n",
            "dtypes: int32(2), int64(2), object(2)\n",
            "memory usage: 365.0+ KB\n"
          ]
        }
      ],
      "source": [
        "df.info()"
      ]
    },
    {
      "cell_type": "code",
      "execution_count": null,
      "metadata": {
        "id": "1Et9QhCbVJJ6",
        "colab": {
          "base_uri": "https://localhost:8080/",
          "height": 363
        },
        "outputId": "e2d0f621-f395-4035-eed6-f7aaf2d8c1ee"
      },
      "outputs": [
        {
          "output_type": "execute_result",
          "data": {
            "text/plain": [
              "    Price    Area    Category  Size  Bedrooms  Bathrooms\n",
              "0  690000  AMPANG  Apartments   886         2          2\n",
              "1  420000  AMPANG  Apartments   858         3          2\n",
              "2  420000  AMPANG  Apartments   860         3          2\n",
              "3  568444  AMPANG  Apartments  1037         3          2\n",
              "4  618000  AMPANG  Apartments  1650         4          2\n",
              "5  428000  AMPANG  Apartments  1250         4          2\n",
              "6  450000  AMPANG  Apartments   705         1          1\n",
              "7  368000  AMPANG  Apartments   957         3          2\n",
              "8  525000  AMPANG  Apartments  1420         3          2\n",
              "9  680000  AMPANG  Apartments  1865         5          4"
            ],
            "text/html": [
              "\n",
              "  <div id=\"df-c13c8532-e546-4d67-b082-d224b4c3020f\">\n",
              "    <div class=\"colab-df-container\">\n",
              "      <div>\n",
              "<style scoped>\n",
              "    .dataframe tbody tr th:only-of-type {\n",
              "        vertical-align: middle;\n",
              "    }\n",
              "\n",
              "    .dataframe tbody tr th {\n",
              "        vertical-align: top;\n",
              "    }\n",
              "\n",
              "    .dataframe thead th {\n",
              "        text-align: right;\n",
              "    }\n",
              "</style>\n",
              "<table border=\"1\" class=\"dataframe\">\n",
              "  <thead>\n",
              "    <tr style=\"text-align: right;\">\n",
              "      <th></th>\n",
              "      <th>Price</th>\n",
              "      <th>Area</th>\n",
              "      <th>Category</th>\n",
              "      <th>Size</th>\n",
              "      <th>Bedrooms</th>\n",
              "      <th>Bathrooms</th>\n",
              "    </tr>\n",
              "  </thead>\n",
              "  <tbody>\n",
              "    <tr>\n",
              "      <th>0</th>\n",
              "      <td>690000</td>\n",
              "      <td>AMPANG</td>\n",
              "      <td>Apartments</td>\n",
              "      <td>886</td>\n",
              "      <td>2</td>\n",
              "      <td>2</td>\n",
              "    </tr>\n",
              "    <tr>\n",
              "      <th>1</th>\n",
              "      <td>420000</td>\n",
              "      <td>AMPANG</td>\n",
              "      <td>Apartments</td>\n",
              "      <td>858</td>\n",
              "      <td>3</td>\n",
              "      <td>2</td>\n",
              "    </tr>\n",
              "    <tr>\n",
              "      <th>2</th>\n",
              "      <td>420000</td>\n",
              "      <td>AMPANG</td>\n",
              "      <td>Apartments</td>\n",
              "      <td>860</td>\n",
              "      <td>3</td>\n",
              "      <td>2</td>\n",
              "    </tr>\n",
              "    <tr>\n",
              "      <th>3</th>\n",
              "      <td>568444</td>\n",
              "      <td>AMPANG</td>\n",
              "      <td>Apartments</td>\n",
              "      <td>1037</td>\n",
              "      <td>3</td>\n",
              "      <td>2</td>\n",
              "    </tr>\n",
              "    <tr>\n",
              "      <th>4</th>\n",
              "      <td>618000</td>\n",
              "      <td>AMPANG</td>\n",
              "      <td>Apartments</td>\n",
              "      <td>1650</td>\n",
              "      <td>4</td>\n",
              "      <td>2</td>\n",
              "    </tr>\n",
              "    <tr>\n",
              "      <th>5</th>\n",
              "      <td>428000</td>\n",
              "      <td>AMPANG</td>\n",
              "      <td>Apartments</td>\n",
              "      <td>1250</td>\n",
              "      <td>4</td>\n",
              "      <td>2</td>\n",
              "    </tr>\n",
              "    <tr>\n",
              "      <th>6</th>\n",
              "      <td>450000</td>\n",
              "      <td>AMPANG</td>\n",
              "      <td>Apartments</td>\n",
              "      <td>705</td>\n",
              "      <td>1</td>\n",
              "      <td>1</td>\n",
              "    </tr>\n",
              "    <tr>\n",
              "      <th>7</th>\n",
              "      <td>368000</td>\n",
              "      <td>AMPANG</td>\n",
              "      <td>Apartments</td>\n",
              "      <td>957</td>\n",
              "      <td>3</td>\n",
              "      <td>2</td>\n",
              "    </tr>\n",
              "    <tr>\n",
              "      <th>8</th>\n",
              "      <td>525000</td>\n",
              "      <td>AMPANG</td>\n",
              "      <td>Apartments</td>\n",
              "      <td>1420</td>\n",
              "      <td>3</td>\n",
              "      <td>2</td>\n",
              "    </tr>\n",
              "    <tr>\n",
              "      <th>9</th>\n",
              "      <td>680000</td>\n",
              "      <td>AMPANG</td>\n",
              "      <td>Apartments</td>\n",
              "      <td>1865</td>\n",
              "      <td>5</td>\n",
              "      <td>4</td>\n",
              "    </tr>\n",
              "  </tbody>\n",
              "</table>\n",
              "</div>\n",
              "      <button class=\"colab-df-convert\" onclick=\"convertToInteractive('df-c13c8532-e546-4d67-b082-d224b4c3020f')\"\n",
              "              title=\"Convert this dataframe to an interactive table.\"\n",
              "              style=\"display:none;\">\n",
              "        \n",
              "  <svg xmlns=\"http://www.w3.org/2000/svg\" height=\"24px\"viewBox=\"0 0 24 24\"\n",
              "       width=\"24px\">\n",
              "    <path d=\"M0 0h24v24H0V0z\" fill=\"none\"/>\n",
              "    <path d=\"M18.56 5.44l.94 2.06.94-2.06 2.06-.94-2.06-.94-.94-2.06-.94 2.06-2.06.94zm-11 1L8.5 8.5l.94-2.06 2.06-.94-2.06-.94L8.5 2.5l-.94 2.06-2.06.94zm10 10l.94 2.06.94-2.06 2.06-.94-2.06-.94-.94-2.06-.94 2.06-2.06.94z\"/><path d=\"M17.41 7.96l-1.37-1.37c-.4-.4-.92-.59-1.43-.59-.52 0-1.04.2-1.43.59L10.3 9.45l-7.72 7.72c-.78.78-.78 2.05 0 2.83L4 21.41c.39.39.9.59 1.41.59.51 0 1.02-.2 1.41-.59l7.78-7.78 2.81-2.81c.8-.78.8-2.07 0-2.86zM5.41 20L4 18.59l7.72-7.72 1.47 1.35L5.41 20z\"/>\n",
              "  </svg>\n",
              "      </button>\n",
              "      \n",
              "  <style>\n",
              "    .colab-df-container {\n",
              "      display:flex;\n",
              "      flex-wrap:wrap;\n",
              "      gap: 12px;\n",
              "    }\n",
              "\n",
              "    .colab-df-convert {\n",
              "      background-color: #E8F0FE;\n",
              "      border: none;\n",
              "      border-radius: 50%;\n",
              "      cursor: pointer;\n",
              "      display: none;\n",
              "      fill: #1967D2;\n",
              "      height: 32px;\n",
              "      padding: 0 0 0 0;\n",
              "      width: 32px;\n",
              "    }\n",
              "\n",
              "    .colab-df-convert:hover {\n",
              "      background-color: #E2EBFA;\n",
              "      box-shadow: 0px 1px 2px rgba(60, 64, 67, 0.3), 0px 1px 3px 1px rgba(60, 64, 67, 0.15);\n",
              "      fill: #174EA6;\n",
              "    }\n",
              "\n",
              "    [theme=dark] .colab-df-convert {\n",
              "      background-color: #3B4455;\n",
              "      fill: #D2E3FC;\n",
              "    }\n",
              "\n",
              "    [theme=dark] .colab-df-convert:hover {\n",
              "      background-color: #434B5C;\n",
              "      box-shadow: 0px 1px 3px 1px rgba(0, 0, 0, 0.15);\n",
              "      filter: drop-shadow(0px 1px 2px rgba(0, 0, 0, 0.3));\n",
              "      fill: #FFFFFF;\n",
              "    }\n",
              "  </style>\n",
              "\n",
              "      <script>\n",
              "        const buttonEl =\n",
              "          document.querySelector('#df-c13c8532-e546-4d67-b082-d224b4c3020f button.colab-df-convert');\n",
              "        buttonEl.style.display =\n",
              "          google.colab.kernel.accessAllowed ? 'block' : 'none';\n",
              "\n",
              "        async function convertToInteractive(key) {\n",
              "          const element = document.querySelector('#df-c13c8532-e546-4d67-b082-d224b4c3020f');\n",
              "          const dataTable =\n",
              "            await google.colab.kernel.invokeFunction('convertToInteractive',\n",
              "                                                     [key], {});\n",
              "          if (!dataTable) return;\n",
              "\n",
              "          const docLinkHtml = 'Like what you see? Visit the ' +\n",
              "            '<a target=\"_blank\" href=https://colab.research.google.com/notebooks/data_table.ipynb>data table notebook</a>'\n",
              "            + ' to learn more about interactive tables.';\n",
              "          element.innerHTML = '';\n",
              "          dataTable['output_type'] = 'display_data';\n",
              "          await google.colab.output.renderOutput(dataTable, element);\n",
              "          const docLink = document.createElement('div');\n",
              "          docLink.innerHTML = docLinkHtml;\n",
              "          element.appendChild(docLink);\n",
              "        }\n",
              "      </script>\n",
              "    </div>\n",
              "  </div>\n",
              "  "
            ]
          },
          "metadata": {},
          "execution_count": 137
        }
      ],
      "source": [
        "df.head(10)"
      ]
    },
    {
      "cell_type": "code",
      "execution_count": null,
      "metadata": {
        "id": "yBxDax1KVJJ6"
      },
      "outputs": [],
      "source": [
        "# log10\n",
        "df['Nor_Price'] = df['Price'].apply(lambda x: np.log(x) if x != 0 else 0)"
      ]
    },
    {
      "cell_type": "markdown",
      "metadata": {
        "id": "_0m5LkbVVJJ6"
      },
      "source": [
        "## Exploratory Analysis and Visualization\n",
        "\n",
        "**TODO** - write some explanation here.\n",
        "\n"
      ]
    },
    {
      "cell_type": "markdown",
      "metadata": {
        "id": "6knKGHajVJJ6"
      },
      "source": [
        "> Instructions (delete this cell)\n",
        "> \n",
        "> - Compute the mean, sum, range and other interesting statistics for numeric columns\n",
        "> - Explore distributions of numeric columns using histograms etc.\n",
        "> - Explore relationship between columns using scatter plots, bar charts etc.\n",
        "> - Make a note of interesting insights from the exploratory analysis"
      ]
    },
    {
      "cell_type": "markdown",
      "metadata": {
        "id": "RuPTpsGWVJJ7"
      },
      "source": [
        "Let's begin by importing`matplotlib.pyplot` and `seaborn`."
      ]
    },
    {
      "cell_type": "code",
      "execution_count": null,
      "metadata": {
        "id": "zOTtwqAMVJJ7"
      },
      "outputs": [],
      "source": [
        "import seaborn as sns\n",
        "import matplotlib\n",
        "import matplotlib.pyplot as plt\n",
        "%matplotlib inline\n",
        "\n",
        "sns.set_style('darkgrid')\n",
        "matplotlib.rcParams['font.size'] = 14\n",
        "matplotlib.rcParams['figure.figsize'] = (9, 5)\n",
        "matplotlib.rcParams['figure.facecolor'] = '#00000000'"
      ]
    },
    {
      "cell_type": "markdown",
      "metadata": {
        "id": "Fv4NPHasVJJ7"
      },
      "source": [
        "**TODO** - Explore one or more columns by plotting a graph below, and add some explanation about it"
      ]
    },
    {
      "cell_type": "code",
      "execution_count": null,
      "metadata": {
        "id": "NKN6RIplVJJ7",
        "colab": {
          "base_uri": "https://localhost:8080/",
          "height": 413
        },
        "outputId": "192cbbd2-9fa8-4eff-a05f-a182054b64ff"
      },
      "outputs": [
        {
          "output_type": "execute_result",
          "data": {
            "text/plain": [
              "Text(0.5, 1.0, 'Price in area')"
            ]
          },
          "metadata": {},
          "execution_count": 145
        },
        {
          "output_type": "display_data",
          "data": {
            "text/plain": [
              "<Figure size 3240x1080 with 1 Axes>"
            ],
            "image/png": "[encoded data removed]"
          },
          "metadata": {
            "needs_background": "light"
          }
        }
      ],
      "source": [
        "import math\n",
        "\n",
        "df.sort_values(by=['Area', 'Price', 'Bedrooms'], inplace=True)\n",
        "\n",
        "#ex = df[df['Area'] == 'AMPANG'].groupby('Bedrooms')['Price'].mean()\n",
        "##print(ex)\n",
        "#ex.plot.bar(x='Price', y='Bedrooms', rot=1)\n",
        "plt.figure(figsize=(45, 15))\n",
        "ax = sns.boxplot(data=df, x='Area', y='Nor_Price')\n",
        "ax.set_title('Price in area', fontdict={'fontsize': 40})"
      ]
    },
    {
      "cell_type": "code",
      "execution_count": null,
      "metadata": {
        "id": "-Scf_lKnVJJ7"
      },
      "outputs": [],
      "source": []
    },
    {
      "cell_type": "markdown",
      "metadata": {
        "id": "Dn_AW-5uVJJ7"
      },
      "source": [
        "**TODO** - Explore one or more columns by plotting a graph below, and add some explanation about it"
      ]
    },
    {
      "cell_type": "code",
      "execution_count": null,
      "metadata": {
        "id": "c7fugjWzVJJ7"
      },
      "outputs": [],
      "source": [
        "import plotly.express as px\n",
        "\n",
        "fig = px.scatter(df, x='Size', y='Price', color='Area',\n",
        "                 labels={\n",
        "                     \"Size\": \"Size (sq.ft.)\",\n",
        "                     \"Price\": \"Price (RM)\"\n",
        "                 })\n",
        "fig.show()"
      ]
    },
    {
      "cell_type": "code",
      "execution_count": null,
      "metadata": {
        "id": "pPnlFwy2VJJ7"
      },
      "outputs": [],
      "source": []
    },
    {
      "cell_type": "markdown",
      "metadata": {
        "id": "rN1bUu8RVJJ7"
      },
      "source": [
        "**TODO** - Explore one or more columns by plotting a graph below, and add some explanation about it"
      ]
    },
    {
      "cell_type": "code",
      "execution_count": null,
      "metadata": {
        "id": "kMrm6CiAVJJ8"
      },
      "outputs": [],
      "source": [
        "sns.violinplot(x = \"Bedrooms\", y = \"Bathrooms\", data=df)\n",
        "plt.show()"
      ]
    },
    {
      "cell_type": "code",
      "execution_count": null,
      "metadata": {
        "id": "RSt7KlcfVJJ8"
      },
      "outputs": [],
      "source": []
    },
    {
      "cell_type": "markdown",
      "metadata": {
        "id": "tLNLw0EOVJJ8"
      },
      "source": [
        "**TODO** - Explore one or more columns by plotting a graph below, and add some explanation about it"
      ]
    },
    {
      "cell_type": "code",
      "execution_count": null,
      "metadata": {
        "id": "61sgf555VJJ8"
      },
      "outputs": [],
      "source": [
        "corr_matrix = df.corr()\n",
        "corr_matrix.head()"
      ]
    },
    {
      "cell_type": "code",
      "execution_count": null,
      "metadata": {
        "id": "fOQ9cTWiVJJ8"
      },
      "outputs": [],
      "source": [
        "sns.heatmap(corr_matrix, annot=True)"
      ]
    },
    {
      "cell_type": "markdown",
      "metadata": {
        "id": "nt_CVhi-VJJ8"
      },
      "source": [
        "**TODO** - Explore one or more columns by plotting a graph below, and add some explanation about it"
      ]
    },
    {
      "cell_type": "code",
      "execution_count": null,
      "metadata": {
        "id": "Zatc4Si_VJJ8"
      },
      "outputs": [],
      "source": []
    },
    {
      "cell_type": "code",
      "execution_count": null,
      "metadata": {
        "id": "RBYoxztOVJJ8"
      },
      "outputs": [],
      "source": []
    },
    {
      "cell_type": "markdown",
      "metadata": {
        "id": "E0U3IWm8VJJ9"
      },
      "source": [
        "## Asking and Answering Questions\n",
        "\n",
        "TODO - write some explanation here.\n",
        "\n"
      ]
    },
    {
      "cell_type": "markdown",
      "metadata": {
        "id": "SjXvLl4dVJJ9"
      },
      "source": [
        "> Instructions (delete this cell)\n",
        ">\n",
        "> - Ask at least 5 interesting questions about your dataset\n",
        "> - Answer the questions either by computing the results using Numpy/Pandas or by plotting graphs using Matplotlib/Seaborn\n",
        "> - Create new columns, merge multiple dataset and perform grouping/aggregation wherever necessary\n",
        "> - Wherever you're using a library function from Pandas/Numpy/Matplotlib etc. explain briefly what it does\n",
        "\n"
      ]
    },
    {
      "cell_type": "markdown",
      "metadata": {
        "id": "7Lor5rHMVJJ9"
      },
      "source": [
        "#### Q1: TODO - ask a question here and answer it below"
      ]
    },
    {
      "cell_type": "code",
      "execution_count": null,
      "metadata": {
        "id": "D-PdOKqCVJJ9"
      },
      "outputs": [],
      "source": []
    },
    {
      "cell_type": "code",
      "execution_count": null,
      "metadata": {
        "id": "pR1HdQ4JVJJ9"
      },
      "outputs": [],
      "source": []
    },
    {
      "cell_type": "code",
      "execution_count": null,
      "metadata": {
        "id": "LKIZxnawVJJ9"
      },
      "outputs": [],
      "source": []
    },
    {
      "cell_type": "markdown",
      "metadata": {
        "id": "c_REVnrhVJJ-"
      },
      "source": [
        "#### Q2: TODO - ask a question here and answer it below"
      ]
    },
    {
      "cell_type": "code",
      "execution_count": null,
      "metadata": {
        "id": "ShA3QyQpVJJ-"
      },
      "outputs": [],
      "source": []
    },
    {
      "cell_type": "code",
      "execution_count": null,
      "metadata": {
        "id": "dvyLd9MdVJJ-"
      },
      "outputs": [],
      "source": []
    },
    {
      "cell_type": "code",
      "execution_count": null,
      "metadata": {
        "id": "tdjrhzySVJJ-"
      },
      "outputs": [],
      "source": []
    },
    {
      "cell_type": "markdown",
      "metadata": {
        "id": "ya3o0SurVJJ-"
      },
      "source": [
        "#### Q3: TODO - ask a question here and answer it below"
      ]
    },
    {
      "cell_type": "code",
      "execution_count": null,
      "metadata": {
        "id": "CaF9SiPeVJJ-"
      },
      "outputs": [],
      "source": []
    },
    {
      "cell_type": "code",
      "execution_count": null,
      "metadata": {
        "id": "bGV1nEzqVJJ-"
      },
      "outputs": [],
      "source": []
    },
    {
      "cell_type": "code",
      "execution_count": null,
      "metadata": {
        "id": "1y8gWqGcVJJ-"
      },
      "outputs": [],
      "source": []
    },
    {
      "cell_type": "markdown",
      "metadata": {
        "id": "p4CcVO1TVJJ-"
      },
      "source": [
        "#### Q4: TODO - ask a question here and answer it below"
      ]
    },
    {
      "cell_type": "code",
      "execution_count": null,
      "metadata": {
        "id": "Wa96BGX1VJJ-"
      },
      "outputs": [],
      "source": []
    },
    {
      "cell_type": "code",
      "execution_count": null,
      "metadata": {
        "id": "R_C78KePVJJ-"
      },
      "outputs": [],
      "source": []
    },
    {
      "cell_type": "code",
      "execution_count": null,
      "metadata": {
        "id": "i4iTQAxBVJJ_"
      },
      "outputs": [],
      "source": []
    },
    {
      "cell_type": "markdown",
      "metadata": {
        "id": "uFuZBqX1VJJ_"
      },
      "source": [
        "#### Q5: TODO - ask a question here and answer it below"
      ]
    },
    {
      "cell_type": "code",
      "execution_count": null,
      "metadata": {
        "id": "0XCOkgIHVJJ_"
      },
      "outputs": [],
      "source": []
    },
    {
      "cell_type": "code",
      "execution_count": null,
      "metadata": {
        "id": "xZWIg8jJVJJ_"
      },
      "outputs": [],
      "source": []
    },
    {
      "cell_type": "code",
      "execution_count": null,
      "metadata": {
        "id": "MMExemAYVJJ_"
      },
      "outputs": [],
      "source": []
    },
    {
      "cell_type": "markdown",
      "metadata": {
        "id": "VxoO755tVJJ_"
      },
      "source": [
        "## Inferences and Conclusion\n",
        "\n",
        "**TODO** - Write some explanation here: a summary of all the inferences drawn from the analysis, and any conclusions you may have drawn by answering various questions."
      ]
    },
    {
      "cell_type": "code",
      "execution_count": null,
      "metadata": {
        "id": "kZ1_OOfbVJKA"
      },
      "outputs": [],
      "source": []
    },
    {
      "cell_type": "code",
      "execution_count": null,
      "metadata": {
        "id": "MtFJFEuMVJKA"
      },
      "outputs": [],
      "source": []
    },
    {
      "cell_type": "markdown",
      "metadata": {
        "id": "xfuc6sJgVJKA"
      },
      "source": [
        "## References and Future Work\n",
        "\n",
        "**TODO** - Write some explanation here: ideas for future projects using this dataset, and links to resources you found useful."
      ]
    },
    {
      "cell_type": "markdown",
      "metadata": {
        "id": "s9w8LQGaVJKA"
      },
      "source": [
        "> Submission Instructions (delete this cell)\n",
        "> \n",
        "> - Upload your notebook to E-learning\n",
        "\n",
        "\n",
        " "
      ]
    },
    {
      "cell_type": "code",
      "execution_count": null,
      "metadata": {
        "id": "OuvFcAJoVJKA"
      },
      "outputs": [],
      "source": []
    },
    {
      "cell_type": "code",
      "execution_count": null,
      "metadata": {
        "scrolled": true,
        "id": "VWI2hEA1VJKA"
      },
      "outputs": [],
      "source": []
    },
    {
      "cell_type": "code",
      "execution_count": null,
      "metadata": {
        "id": "VT58I-b9VJKB"
      },
      "outputs": [],
      "source": []
    }
  ],
  "metadata": {
    "kernelspec": {
      "display_name": "Python 3",
      "language": "python",
      "name": "python3"
    },
    "language_info": {
      "codemirror_mode": {
        "name": "ipython",
        "version": 3
      },
      "file_extension": ".py",
      "mimetype": "text/x-python",
      "name": "python",
      "nbconvert_exporter": "python",
      "pygments_lexer": "ipython3",
      "version": "3.8.5"
    },
    "colab": {
      "provenance": [],
      "include_colab_link": true
    }
  },
  "nbformat": 4,
  "nbformat_minor": 0
}